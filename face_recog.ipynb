{
 "cells": [
  {
   "cell_type": "markdown",
   "id": "78c92998-48ba-44af-977e-cb97ea12cf5a",
   "metadata": {
    "gradient": {
     "editing": false,
     "id": "78c92998-48ba-44af-977e-cb97ea12cf5a",
     "kernelId": "54aa2370-8b57-4da5-8b37-e1588600422c"
    }
   },
   "source": [
    "# Getting Started:\n",
    "\n",
    "Run the cell below before doing anything else to make sure you have the required packages installed. \n",
    "\n",
    "If you are familiar with Gradient Notebooks and Jupyter, skip to the section \"Face Recognition\""
   ]
  },
  {
   "cell_type": "code",
   "execution_count": null,
   "id": "f4e97217-cc4a-4df3-8c6c-74e8c1d1f1e8",
   "metadata": {
    "collapsed": false,
    "gradient": {
     "editing": false,
     "execution_count": 2,
     "id": "f4e97217-cc4a-4df3-8c6c-74e8c1d1f1e8",
     "kernelId": "54aa2370-8b57-4da5-8b37-e1588600422c",
     "source_hidden": false
    }
   },
   "outputs": [
    {
     "name": "stdout",
     "output_type": "stream",
     "text": [
      "Looking in indexes: https://pypi.org/simple, https://pypi.ngc.nvidia.com\r\n",
      "Requirement already satisfied: matplotlib in /opt/conda/lib/python3.8/site-packages (3.5.1)\r\n",
      "Requirement already satisfied: fonttools>=4.22.0 in /opt/conda/lib/python3.8/site-packages (from matplotlib) (4.29.1)\r\n",
      "Requirement already satisfied: numpy>=1.17 in /opt/conda/lib/python3.8/site-packages (from matplotlib) (1.22.2)\r\n",
      "Requirement already satisfied: cycler>=0.10 in /opt/conda/lib/python3.8/site-packages (from matplotlib) (0.11.0)\r\n",
      "Requirement already satisfied: packaging>=20.0 in /opt/conda/lib/python3.8/site-packages (from matplotlib) (21.3)\r\n",
      "Requirement already satisfied: pillow>=6.2.0 in /opt/conda/lib/python3.8/site-packages (from matplotlib) (9.0.0)\r\n",
      "Requirement already satisfied: python-dateutil>=2.7 in /opt/conda/lib/python3.8/site-packages (from matplotlib) (2.8.2)\r\n",
      "Requirement already satisfied: kiwisolver>=1.0.1 in /opt/conda/lib/python3.8/site-packages (from matplotlib) (1.3.2)\r\n",
      "Requirement already satisfied: pyparsing>=2.2.1 in /opt/conda/lib/python3.8/site-packages (from matplotlib) (3.0.7)\r\n"
     ]
    },
    {
     "name": "stdout",
     "output_type": "stream",
     "text": [
      "Requirement already satisfied: six>=1.5 in /opt/conda/lib/python3.8/site-packages (from python-dateutil>=2.7->matplotlib) (1.16.0)\r\n"
     ]
    },
    {
     "name": "stdout",
     "output_type": "stream",
     "text": [
      "\u001b[33mWARNING: Running pip as the 'root' user can result in broken permissions and conflicting behaviour with the system package manager. It is recommended to use a virtual environment instead: https://pip.pypa.io/warnings/venv\u001b[0m\r\n"
     ]
    },
    {
     "name": "stdout",
     "output_type": "stream",
     "text": [
      "Looking in indexes: https://pypi.org/simple, https://pypi.ngc.nvidia.com\r\n",
      "Requirement already satisfied: numpy in /opt/conda/lib/python3.8/site-packages (1.22.2)\r\n"
     ]
    },
    {
     "name": "stdout",
     "output_type": "stream",
     "text": [
      "\u001b[33mWARNING: Running pip as the 'root' user can result in broken permissions and conflicting behaviour with the system package manager. It is recommended to use a virtual environment instead: https://pip.pypa.io/warnings/venv\u001b[0m\r\n"
     ]
    },
    {
     "name": "stdout",
     "output_type": "stream",
     "text": [
      "Looking in indexes: https://pypi.org/simple, https://pypi.ngc.nvidia.com\r\n"
     ]
    },
    {
     "name": "stdout",
     "output_type": "stream",
     "text": [
      "Collecting dlib\r\n"
     ]
    },
    {
     "name": "stdout",
     "output_type": "stream",
     "text": [
      "  Downloading dlib-19.23.1.tar.gz (7.4 MB)\r\n",
      "\u001b[?25l\r",
      "\u001b[K     |                                | 10 kB 4.6 MB/s eta 0:00:02\r",
      "\u001b[K     |                                | 20 kB 7.7 MB/s eta 0:00:01\r",
      "\u001b[K     |▏                               | 30 kB 8.6 MB/s eta 0:00:01\r",
      "\u001b[K     |▏                               | 40 kB 10.9 MB/s eta 0:00:01\r",
      "\u001b[K     |▎                               | 51 kB 9.8 MB/s eta 0:00:01\r",
      "\u001b[K     |▎                               | 61 kB 11.6 MB/s eta 0:00:01\r",
      "\u001b[K     |▎                               | 71 kB 12.1 MB/s eta 0:00:01\r",
      "\u001b[K     |▍                               | 81 kB 13.6 MB/s eta 0:00:01\r",
      "\u001b[K     |▍                               | 92 kB 13.7 MB/s eta 0:00:01\r",
      "\u001b[K     |▌                               | 102 kB 14.1 MB/s eta 0:00:01\r",
      "\u001b[K     |▌                               | 112 kB 14.1 MB/s eta 0:00:01\r",
      "\u001b[K     |▌                               | 122 kB 14.1 MB/s eta 0:00:01\r",
      "\u001b[K     |▋                               | 133 kB 14.1 MB/s eta 0:00:01\r",
      "\u001b[K     |▋                               | 143 kB 14.1 MB/s eta 0:00:01\r",
      "\u001b[K     |▊                               | 153 kB 14.1 MB/s eta 0:00:01\r",
      "\u001b[K     |▊                               | 163 kB 14.1 MB/s eta 0:00:01\r",
      "\u001b[K     |▊                               | 174 kB 14.1 MB/s eta 0:00:01\r",
      "\u001b[K     |▉                               | 184 kB 14.1 MB/s eta 0:00:01\r",
      "\u001b[K     |▉                               | 194 kB 14.1 MB/s eta 0:00:01\r",
      "\u001b[K     |█                               | 204 kB 14.1 MB/s eta 0:00:01\r",
      "\u001b[K     |█                               | 215 kB 14.1 MB/s eta 0:00:01\r",
      "\u001b[K     |█                               | 225 kB 14.1 MB/s eta 0:00:01\r",
      "\u001b[K     |█                               | 235 kB 14.1 MB/s eta 0:00:01\r",
      "\u001b[K     |█                               | 245 kB 14.1 MB/s eta 0:00:01\r",
      "\u001b[K     |█▏                              | 256 kB 14.1 MB/s eta 0:00:01\r",
      "\u001b[K     |█▏                              | 266 kB 14.1 MB/s eta 0:00:01\r",
      "\u001b[K     |█▏                              | 276 kB 14.1 MB/s eta 0:00:01\r",
      "\u001b[K     |█▎                              | 286 kB 14.1 MB/s eta 0:00:01\r",
      "\u001b[K     |█▎                              | 296 kB 14.1 MB/s eta 0:00:01\r",
      "\u001b[K     |█▍                              | 307 kB 14.1 MB/s eta 0:00:01\r",
      "\u001b[K     |█▍                              | 317 kB 14.1 MB/s eta 0:00:01\r",
      "\u001b[K     |█▍                              | 327 kB 14.1 MB/s eta 0:00:01\r",
      "\u001b[K     |█▌                              | 337 kB 14.1 MB/s eta 0:00:01\r",
      "\u001b[K     |█▌                              | 348 kB 14.1 MB/s eta 0:00:01\r",
      "\u001b[K     |█▋                              | 358 kB 14.1 MB/s eta 0:00:01\r",
      "\u001b[K     |█▋                              | 368 kB 14.1 MB/s eta 0:00:01\r",
      "\u001b[K     |█▋                              | 378 kB 14.1 MB/s eta 0:00:01\r",
      "\u001b[K     |█▊                              | 389 kB 14.1 MB/s eta 0:00:01\r",
      "\u001b[K     |█▊                              | 399 kB 14.1 MB/s eta 0:00:01\r",
      "\u001b[K     |█▉                              | 409 kB 14.1 MB/s eta 0:00:01\r",
      "\u001b[K     |█▉                              | 419 kB 14.1 MB/s eta 0:00:01\r",
      "\u001b[K     |█▉                              | 430 kB 14.1 MB/s eta 0:00:01"
     ]
    },
    {
     "name": "stdout",
     "output_type": "stream",
     "text": [
      "\r",
      "\u001b[K     |██                              | 440 kB 14.1 MB/s eta 0:00:01\r",
      "\u001b[K     |██                              | 450 kB 14.1 MB/s eta 0:00:01\r",
      "\u001b[K     |██                              | 460 kB 14.1 MB/s eta 0:00:01\r",
      "\u001b[K     |██                              | 471 kB 14.1 MB/s eta 0:00:01\r",
      "\u001b[K     |██                              | 481 kB 14.1 MB/s eta 0:00:01\r",
      "\u001b[K     |██▏                             | 491 kB 14.1 MB/s eta 0:00:01\r",
      "\u001b[K     |██▏                             | 501 kB 14.1 MB/s eta 0:00:01\r",
      "\u001b[K     |██▎                             | 512 kB 14.1 MB/s eta 0:00:01\r",
      "\u001b[K     |██▎                             | 522 kB 14.1 MB/s eta 0:00:01\r",
      "\u001b[K     |██▎                             | 532 kB 14.1 MB/s eta 0:00:01\r",
      "\u001b[K     |██▍                             | 542 kB 14.1 MB/s eta 0:00:01\r",
      "\u001b[K     |██▍                             | 552 kB 14.1 MB/s eta 0:00:01\r",
      "\u001b[K     |██▌                             | 563 kB 14.1 MB/s eta 0:00:01\r",
      "\u001b[K     |██▌                             | 573 kB 14.1 MB/s eta 0:00:01\r",
      "\u001b[K     |██▌                             | 583 kB 14.1 MB/s eta 0:00:01\r",
      "\u001b[K     |██▋                             | 593 kB 14.1 MB/s eta 0:00:01\r",
      "\u001b[K     |██▋                             | 604 kB 14.1 MB/s eta 0:00:01\r",
      "\u001b[K     |██▊                             | 614 kB 14.1 MB/s eta 0:00:01\r",
      "\u001b[K     |██▊                             | 624 kB 14.1 MB/s eta 0:00:01\r",
      "\u001b[K     |██▊                             | 634 kB 14.1 MB/s eta 0:00:01\r",
      "\u001b[K     |██▉                             | 645 kB 14.1 MB/s eta 0:00:01\r",
      "\u001b[K     |██▉                             | 655 kB 14.1 MB/s eta 0:00:01\r",
      "\u001b[K     |███                             | 665 kB 14.1 MB/s eta 0:00:01\r",
      "\u001b[K     |███                             | 675 kB 14.1 MB/s eta 0:00:01\r",
      "\u001b[K     |███                             | 686 kB 14.1 MB/s eta 0:00:01\r",
      "\u001b[K     |███                             | 696 kB 14.1 MB/s eta 0:00:01\r",
      "\u001b[K     |███                             | 706 kB 14.1 MB/s eta 0:00:01\r",
      "\u001b[K     |███▏                            | 716 kB 14.1 MB/s eta 0:00:01\r",
      "\u001b[K     |███▏                            | 727 kB 14.1 MB/s eta 0:00:01\r",
      "\u001b[K     |███▏                            | 737 kB 14.1 MB/s eta 0:00:01\r",
      "\u001b[K     |███▎                            | 747 kB 14.1 MB/s eta 0:00:01\r",
      "\u001b[K     |███▎                            | 757 kB 14.1 MB/s eta 0:00:01\r",
      "\u001b[K     |███▍                            | 768 kB 14.1 MB/s eta 0:00:01\r",
      "\u001b[K     |███▍                            | 778 kB 14.1 MB/s eta 0:00:01\r",
      "\u001b[K     |███▍                            | 788 kB 14.1 MB/s eta 0:00:01\r",
      "\u001b[K     |███▌                            | 798 kB 14.1 MB/s eta 0:00:01\r",
      "\u001b[K     |███▌                            | 808 kB 14.1 MB/s eta 0:00:01\r",
      "\u001b[K     |███▋                            | 819 kB 14.1 MB/s eta 0:00:01\r",
      "\u001b[K     |███▋                            | 829 kB 14.1 MB/s eta 0:00:01\r",
      "\u001b[K     |███▋                            | 839 kB 14.1 MB/s eta 0:00:01\r",
      "\u001b[K     |███▊                            | 849 kB 14.1 MB/s eta 0:00:01\r",
      "\u001b[K     |███▊                            | 860 kB 14.1 MB/s eta 0:00:01\r",
      "\u001b[K     |███▉                            | 870 kB 14.1 MB/s eta 0:00:01\r",
      "\u001b[K     |███▉                            | 880 kB 14.1 MB/s eta 0:00:01\r",
      "\u001b[K     |███▉                            | 890 kB 14.1 MB/s eta 0:00:01\r",
      "\u001b[K     |████                            | 901 kB 14.1 MB/s eta 0:00:01\r",
      "\u001b[K     |████                            | 911 kB 14.1 MB/s eta 0:00:01\r",
      "\u001b[K     |████                            | 921 kB 14.1 MB/s eta 0:00:01\r",
      "\u001b[K     |████                            | 931 kB 14.1 MB/s eta 0:00:01\r",
      "\u001b[K     |████                            | 942 kB 14.1 MB/s eta 0:00:01\r",
      "\u001b[K     |████▏                           | 952 kB 14.1 MB/s eta 0:00:01\r",
      "\u001b[K     |████▏                           | 962 kB 14.1 MB/s eta 0:00:01\r",
      "\u001b[K     |████▎                           | 972 kB 14.1 MB/s eta 0:00:01\r",
      "\u001b[K     |████▎                           | 983 kB 14.1 MB/s eta 0:00:01\r",
      "\u001b[K     |████▎                           | 993 kB 14.1 MB/s eta 0:00:01\r",
      "\u001b[K     |████▍                           | 1.0 MB 14.1 MB/s eta 0:00:01\r",
      "\u001b[K     |████▍                           | 1.0 MB 14.1 MB/s eta 0:00:01\r",
      "\u001b[K     |████▌                           | 1.0 MB 14.1 MB/s eta 0:00:01\r",
      "\u001b[K     |████▌                           | 1.0 MB 14.1 MB/s eta 0:00:01\r",
      "\u001b[K     |████▌                           | 1.0 MB 14.1 MB/s eta 0:00:01\r",
      "\u001b[K     |████▋                           | 1.1 MB 14.1 MB/s eta 0:00:01\r",
      "\u001b[K     |████▋                           | 1.1 MB 14.1 MB/s eta 0:00:01\r",
      "\u001b[K     |████▊                           | 1.1 MB 14.1 MB/s eta 0:00:01\r",
      "\u001b[K     |████▊                           | 1.1 MB 14.1 MB/s eta 0:00:01\r",
      "\u001b[K     |████▊                           | 1.1 MB 14.1 MB/s eta 0:00:01\r",
      "\u001b[K     |████▉                           | 1.1 MB 14.1 MB/s eta 0:00:01\r",
      "\u001b[K     |████▉                           | 1.1 MB 14.1 MB/s eta 0:00:01\r",
      "\u001b[K     |█████                           | 1.1 MB 14.1 MB/s eta 0:00:01\r",
      "\u001b[K     |█████                           | 1.1 MB 14.1 MB/s eta 0:00:01\r",
      "\u001b[K     |█████                           | 1.1 MB 14.1 MB/s eta 0:00:01\r",
      "\u001b[K     |█████                           | 1.2 MB 14.1 MB/s eta 0:00:01\r",
      "\u001b[K     |█████                           | 1.2 MB 14.1 MB/s eta 0:00:01\r",
      "\u001b[K     |█████▏                          | 1.2 MB 14.1 MB/s eta 0:00:01\r",
      "\u001b[K     |█████▏                          | 1.2 MB 14.1 MB/s eta 0:00:01\r",
      "\u001b[K     |█████▏                          | 1.2 MB 14.1 MB/s eta 0:00:01\r",
      "\u001b[K     |█████▎                          | 1.2 MB 14.1 MB/s eta 0:00:01\r",
      "\u001b[K     |█████▎                          | 1.2 MB 14.1 MB/s eta 0:00:01\r",
      "\u001b[K     |█████▍                          | 1.2 MB 14.1 MB/s eta 0:00:01\r",
      "\u001b[K     |█████▍                          | 1.2 MB 14.1 MB/s eta 0:00:01\r",
      "\u001b[K     |█████▍                          | 1.2 MB 14.1 MB/s eta 0:00:01\r",
      "\u001b[K     |█████▌                          | 1.3 MB 14.1 MB/s eta 0:00:01\r",
      "\u001b[K     |█████▌                          | 1.3 MB 14.1 MB/s eta 0:00:01\r",
      "\u001b[K     |█████▋                          | 1.3 MB 14.1 MB/s eta 0:00:01\r",
      "\u001b[K     |█████▋                          | 1.3 MB 14.1 MB/s eta 0:00:01\r",
      "\u001b[K     |█████▋                          | 1.3 MB 14.1 MB/s eta 0:00:01\r",
      "\u001b[K     |█████▊                          | 1.3 MB 14.1 MB/s eta 0:00:01\r",
      "\u001b[K     |█████▊                          | 1.3 MB 14.1 MB/s eta 0:00:01\r",
      "\u001b[K     |█████▉                          | 1.3 MB 14.1 MB/s eta 0:00:01\r",
      "\u001b[K     |█████▉                          | 1.3 MB 14.1 MB/s eta 0:00:01\r",
      "\u001b[K     |█████▉                          | 1.4 MB 14.1 MB/s eta 0:00:01\r",
      "\u001b[K     |██████                          | 1.4 MB 14.1 MB/s eta 0:00:01\r",
      "\u001b[K     |██████                          | 1.4 MB 14.1 MB/s eta 0:00:01\r",
      "\u001b[K     |██████                          | 1.4 MB 14.1 MB/s eta 0:00:01\r",
      "\u001b[K     |██████                          | 1.4 MB 14.1 MB/s eta 0:00:01\r",
      "\u001b[K     |██████                          | 1.4 MB 14.1 MB/s eta 0:00:01\r",
      "\u001b[K     |██████▏                         | 1.4 MB 14.1 MB/s eta 0:00:01\r",
      "\u001b[K     |██████▏                         | 1.4 MB 14.1 MB/s eta 0:00:01\r",
      "\u001b[K     |██████▎                         | 1.4 MB 14.1 MB/s eta 0:00:01\r",
      "\u001b[K     |██████▎                         | 1.4 MB 14.1 MB/s eta 0:00:01\r",
      "\u001b[K     |██████▎                         | 1.5 MB 14.1 MB/s eta 0:00:01\r",
      "\u001b[K     |██████▍                         | 1.5 MB 14.1 MB/s eta 0:00:01\r",
      "\u001b[K     |██████▍                         | 1.5 MB 14.1 MB/s eta 0:00:01\r",
      "\u001b[K     |██████▌                         | 1.5 MB 14.1 MB/s eta 0:00:01\r",
      "\u001b[K     |██████▌                         | 1.5 MB 14.1 MB/s eta 0:00:01\r",
      "\u001b[K     |██████▌                         | 1.5 MB 14.1 MB/s eta 0:00:01\r",
      "\u001b[K     |██████▋                         | 1.5 MB 14.1 MB/s eta 0:00:01\r",
      "\u001b[K     |██████▋                         | 1.5 MB 14.1 MB/s eta 0:00:01\r",
      "\u001b[K     |██████▊                         | 1.5 MB 14.1 MB/s eta 0:00:01\r",
      "\u001b[K     |██████▊                         | 1.5 MB 14.1 MB/s eta 0:00:01\r",
      "\u001b[K     |██████▊                         | 1.6 MB 14.1 MB/s eta 0:00:01\r",
      "\u001b[K     |██████▉                         | 1.6 MB 14.1 MB/s eta 0:00:01\r",
      "\u001b[K     |██████▉                         | 1.6 MB 14.1 MB/s eta 0:00:01\r",
      "\u001b[K     |███████                         | 1.6 MB 14.1 MB/s eta 0:00:01\r",
      "\u001b[K     |███████                         | 1.6 MB 14.1 MB/s eta 0:00:01\r",
      "\u001b[K     |███████                         | 1.6 MB 14.1 MB/s eta 0:00:01\r",
      "\u001b[K     |███████                         | 1.6 MB 14.1 MB/s eta 0:00:01\r",
      "\u001b[K     |███████                         | 1.6 MB 14.1 MB/s eta 0:00:01\r",
      "\u001b[K     |███████▏                        | 1.6 MB 14.1 MB/s eta 0:00:01\r",
      "\u001b[K     |███████▏                        | 1.6 MB 14.1 MB/s eta 0:00:01"
     ]
    },
    {
     "name": "stdout",
     "output_type": "stream",
     "text": [
      "\r",
      "\u001b[K     |███████▏                        | 1.7 MB 14.1 MB/s eta 0:00:01\r",
      "\u001b[K     |███████▎                        | 1.7 MB 14.1 MB/s eta 0:00:01\r",
      "\u001b[K     |███████▎                        | 1.7 MB 14.1 MB/s eta 0:00:01\r",
      "\u001b[K     |███████▍                        | 1.7 MB 14.1 MB/s eta 0:00:01\r",
      "\u001b[K     |███████▍                        | 1.7 MB 14.1 MB/s eta 0:00:01\r",
      "\u001b[K     |███████▍                        | 1.7 MB 14.1 MB/s eta 0:00:01\r",
      "\u001b[K     |███████▌                        | 1.7 MB 14.1 MB/s eta 0:00:01\r",
      "\u001b[K     |███████▌                        | 1.7 MB 14.1 MB/s eta 0:00:01\r",
      "\u001b[K     |███████▋                        | 1.7 MB 14.1 MB/s eta 0:00:01\r",
      "\u001b[K     |███████▋                        | 1.8 MB 14.1 MB/s eta 0:00:01\r",
      "\u001b[K     |███████▋                        | 1.8 MB 14.1 MB/s eta 0:00:01\r",
      "\u001b[K     |███████▊                        | 1.8 MB 14.1 MB/s eta 0:00:01\r",
      "\u001b[K     |███████▊                        | 1.8 MB 14.1 MB/s eta 0:00:01\r",
      "\u001b[K     |███████▉                        | 1.8 MB 14.1 MB/s eta 0:00:01\r",
      "\u001b[K     |███████▉                        | 1.8 MB 14.1 MB/s eta 0:00:01\r",
      "\u001b[K     |███████▉                        | 1.8 MB 14.1 MB/s eta 0:00:01\r",
      "\u001b[K     |████████                        | 1.8 MB 14.1 MB/s eta 0:00:01\r",
      "\u001b[K     |████████                        | 1.8 MB 14.1 MB/s eta 0:00:01\r",
      "\u001b[K     |████████                        | 1.8 MB 14.1 MB/s eta 0:00:01\r",
      "\u001b[K     |████████                        | 1.9 MB 14.1 MB/s eta 0:00:01\r",
      "\u001b[K     |████████                        | 1.9 MB 14.1 MB/s eta 0:00:01\r",
      "\u001b[K     |████████▏                       | 1.9 MB 14.1 MB/s eta 0:00:01\r",
      "\u001b[K     |████████▏                       | 1.9 MB 14.1 MB/s eta 0:00:01\r",
      "\u001b[K     |████████▎                       | 1.9 MB 14.1 MB/s eta 0:00:01\r",
      "\u001b[K     |████████▎                       | 1.9 MB 14.1 MB/s eta 0:00:01\r",
      "\u001b[K     |████████▎                       | 1.9 MB 14.1 MB/s eta 0:00:01\r",
      "\u001b[K     |████████▍                       | 1.9 MB 14.1 MB/s eta 0:00:01\r",
      "\u001b[K     |████████▍                       | 1.9 MB 14.1 MB/s eta 0:00:01\r",
      "\u001b[K     |████████▌                       | 1.9 MB 14.1 MB/s eta 0:00:01\r",
      "\u001b[K     |████████▌                       | 2.0 MB 14.1 MB/s eta 0:00:01\r",
      "\u001b[K     |████████▌                       | 2.0 MB 14.1 MB/s eta 0:00:01\r",
      "\u001b[K     |████████▋                       | 2.0 MB 14.1 MB/s eta 0:00:01\r",
      "\u001b[K     |████████▋                       | 2.0 MB 14.1 MB/s eta 0:00:01\r",
      "\u001b[K     |████████▊                       | 2.0 MB 14.1 MB/s eta 0:00:01\r",
      "\u001b[K     |████████▊                       | 2.0 MB 14.1 MB/s eta 0:00:01\r",
      "\u001b[K     |████████▊                       | 2.0 MB 14.1 MB/s eta 0:00:01\r",
      "\u001b[K     |████████▉                       | 2.0 MB 14.1 MB/s eta 0:00:01\r",
      "\u001b[K     |████████▉                       | 2.0 MB 14.1 MB/s eta 0:00:01\r",
      "\u001b[K     |█████████                       | 2.0 MB 14.1 MB/s eta 0:00:01\r",
      "\u001b[K     |█████████                       | 2.1 MB 14.1 MB/s eta 0:00:01\r",
      "\u001b[K     |█████████                       | 2.1 MB 14.1 MB/s eta 0:00:01\r",
      "\u001b[K     |█████████                       | 2.1 MB 14.1 MB/s eta 0:00:01\r",
      "\u001b[K     |█████████                       | 2.1 MB 14.1 MB/s eta 0:00:01\r",
      "\u001b[K     |█████████▏                      | 2.1 MB 14.1 MB/s eta 0:00:01\r",
      "\u001b[K     |█████████▏                      | 2.1 MB 14.1 MB/s eta 0:00:01\r",
      "\u001b[K     |█████████▏                      | 2.1 MB 14.1 MB/s eta 0:00:01\r",
      "\u001b[K     |█████████▎                      | 2.1 MB 14.1 MB/s eta 0:00:01\r",
      "\u001b[K     |█████████▎                      | 2.1 MB 14.1 MB/s eta 0:00:01\r",
      "\u001b[K     |█████████▍                      | 2.2 MB 14.1 MB/s eta 0:00:01\r",
      "\u001b[K     |█████████▍                      | 2.2 MB 14.1 MB/s eta 0:00:01\r",
      "\u001b[K     |█████████▍                      | 2.2 MB 14.1 MB/s eta 0:00:01\r",
      "\u001b[K     |█████████▌                      | 2.2 MB 14.1 MB/s eta 0:00:01\r",
      "\u001b[K     |█████████▌                      | 2.2 MB 14.1 MB/s eta 0:00:01\r",
      "\u001b[K     |█████████▋                      | 2.2 MB 14.1 MB/s eta 0:00:01\r",
      "\u001b[K     |█████████▋                      | 2.2 MB 14.1 MB/s eta 0:00:01\r",
      "\u001b[K     |█████████▋                      | 2.2 MB 14.1 MB/s eta 0:00:01\r",
      "\u001b[K     |█████████▊                      | 2.2 MB 14.1 MB/s eta 0:00:01\r",
      "\u001b[K     |█████████▊                      | 2.2 MB 14.1 MB/s eta 0:00:01\r",
      "\u001b[K     |█████████▉                      | 2.3 MB 14.1 MB/s eta 0:00:01\r",
      "\u001b[K     |█████████▉                      | 2.3 MB 14.1 MB/s eta 0:00:01\r",
      "\u001b[K     |█████████▉                      | 2.3 MB 14.1 MB/s eta 0:00:01\r",
      "\u001b[K     |██████████                      | 2.3 MB 14.1 MB/s eta 0:00:01\r",
      "\u001b[K     |██████████                      | 2.3 MB 14.1 MB/s eta 0:00:01\r",
      "\u001b[K     |██████████                      | 2.3 MB 14.1 MB/s eta 0:00:01\r",
      "\u001b[K     |██████████                      | 2.3 MB 14.1 MB/s eta 0:00:01\r",
      "\u001b[K     |██████████                      | 2.3 MB 14.1 MB/s eta 0:00:01\r",
      "\u001b[K     |██████████▏                     | 2.3 MB 14.1 MB/s eta 0:00:01\r",
      "\u001b[K     |██████████▏                     | 2.3 MB 14.1 MB/s eta 0:00:01\r",
      "\u001b[K     |██████████▎                     | 2.4 MB 14.1 MB/s eta 0:00:01\r",
      "\u001b[K     |██████████▎                     | 2.4 MB 14.1 MB/s eta 0:00:01\r",
      "\u001b[K     |██████████▎                     | 2.4 MB 14.1 MB/s eta 0:00:01\r",
      "\u001b[K     |██████████▍                     | 2.4 MB 14.1 MB/s eta 0:00:01\r",
      "\u001b[K     |██████████▍                     | 2.4 MB 14.1 MB/s eta 0:00:01\r",
      "\u001b[K     |██████████▌                     | 2.4 MB 14.1 MB/s eta 0:00:01\r",
      "\u001b[K     |██████████▌                     | 2.4 MB 14.1 MB/s eta 0:00:01\r",
      "\u001b[K     |██████████▌                     | 2.4 MB 14.1 MB/s eta 0:00:01\r",
      "\u001b[K     |██████████▋                     | 2.4 MB 14.1 MB/s eta 0:00:01\r",
      "\u001b[K     |██████████▋                     | 2.4 MB 14.1 MB/s eta 0:00:01\r",
      "\u001b[K     |██████████▊                     | 2.5 MB 14.1 MB/s eta 0:00:01\r",
      "\u001b[K     |██████████▊                     | 2.5 MB 14.1 MB/s eta 0:00:01\r",
      "\u001b[K     |██████████▊                     | 2.5 MB 14.1 MB/s eta 0:00:01\r",
      "\u001b[K     |██████████▉                     | 2.5 MB 14.1 MB/s eta 0:00:01\r",
      "\u001b[K     |██████████▉                     | 2.5 MB 14.1 MB/s eta 0:00:01\r",
      "\u001b[K     |███████████                     | 2.5 MB 14.1 MB/s eta 0:00:01\r",
      "\u001b[K     |███████████                     | 2.5 MB 14.1 MB/s eta 0:00:01\r",
      "\u001b[K     |███████████                     | 2.5 MB 14.1 MB/s eta 0:00:01\r",
      "\u001b[K     |███████████                     | 2.5 MB 14.1 MB/s eta 0:00:01\r",
      "\u001b[K     |███████████                     | 2.5 MB 14.1 MB/s eta 0:00:01\r",
      "\u001b[K     |███████████▏                    | 2.6 MB 14.1 MB/s eta 0:00:01\r",
      "\u001b[K     |███████████▏                    | 2.6 MB 14.1 MB/s eta 0:00:01\r",
      "\u001b[K     |███████████▏                    | 2.6 MB 14.1 MB/s eta 0:00:01\r",
      "\u001b[K     |███████████▎                    | 2.6 MB 14.1 MB/s eta 0:00:01\r",
      "\u001b[K     |███████████▎                    | 2.6 MB 14.1 MB/s eta 0:00:01\r",
      "\u001b[K     |███████████▍                    | 2.6 MB 14.1 MB/s eta 0:00:01\r",
      "\u001b[K     |███████████▍                    | 2.6 MB 14.1 MB/s eta 0:00:01\r",
      "\u001b[K     |███████████▍                    | 2.6 MB 14.1 MB/s eta 0:00:01\r",
      "\u001b[K     |███████████▌                    | 2.6 MB 14.1 MB/s eta 0:00:01\r",
      "\u001b[K     |███████████▌                    | 2.7 MB 14.1 MB/s eta 0:00:01\r",
      "\u001b[K     |███████████▋                    | 2.7 MB 14.1 MB/s eta 0:00:01\r",
      "\u001b[K     |███████████▋                    | 2.7 MB 14.1 MB/s eta 0:00:01\r",
      "\u001b[K     |███████████▋                    | 2.7 MB 14.1 MB/s eta 0:00:01\r",
      "\u001b[K     |███████████▊                    | 2.7 MB 14.1 MB/s eta 0:00:01\r",
      "\u001b[K     |███████████▊                    | 2.7 MB 14.1 MB/s eta 0:00:01\r",
      "\u001b[K     |███████████▉                    | 2.7 MB 14.1 MB/s eta 0:00:01\r",
      "\u001b[K     |███████████▉                    | 2.7 MB 14.1 MB/s eta 0:00:01\r",
      "\u001b[K     |███████████▉                    | 2.7 MB 14.1 MB/s eta 0:00:01\r",
      "\u001b[K     |████████████                    | 2.7 MB 14.1 MB/s eta 0:00:01\r",
      "\u001b[K     |████████████                    | 2.8 MB 14.1 MB/s eta 0:00:01\r",
      "\u001b[K     |████████████                    | 2.8 MB 14.1 MB/s eta 0:00:01\r",
      "\u001b[K     |████████████                    | 2.8 MB 14.1 MB/s eta 0:00:01\r",
      "\u001b[K     |████████████                    | 2.8 MB 14.1 MB/s eta 0:00:01\r",
      "\u001b[K     |████████████▏                   | 2.8 MB 14.1 MB/s eta 0:00:01\r",
      "\u001b[K     |████████████▏                   | 2.8 MB 14.1 MB/s eta 0:00:01\r",
      "\u001b[K     |████████████▎                   | 2.8 MB 14.1 MB/s eta 0:00:01\r",
      "\u001b[K     |████████████▎                   | 2.8 MB 14.1 MB/s eta 0:00:01\r",
      "\u001b[K     |████████████▎                   | 2.8 MB 14.1 MB/s eta 0:00:01\r",
      "\u001b[K     |████████████▍                   | 2.8 MB 14.1 MB/s eta 0:00:01\r",
      "\u001b[K     |████████████▍                   | 2.9 MB 14.1 MB/s eta 0:00:01\r",
      "\u001b[K     |████████████▌                   | 2.9 MB 14.1 MB/s eta 0:00:01\r",
      "\u001b[K     |████████████▌                   | 2.9 MB 14.1 MB/s eta 0:00:01"
     ]
    },
    {
     "name": "stdout",
     "output_type": "stream",
     "text": [
      "\r",
      "\u001b[K     |████████████▌                   | 2.9 MB 14.1 MB/s eta 0:00:01\r",
      "\u001b[K     |████████████▋                   | 2.9 MB 14.1 MB/s eta 0:00:01\r",
      "\u001b[K     |████████████▋                   | 2.9 MB 14.1 MB/s eta 0:00:01\r",
      "\u001b[K     |████████████▊                   | 2.9 MB 14.1 MB/s eta 0:00:01\r",
      "\u001b[K     |████████████▊                   | 2.9 MB 14.1 MB/s eta 0:00:01\r",
      "\u001b[K     |████████████▊                   | 2.9 MB 14.1 MB/s eta 0:00:01\r",
      "\u001b[K     |████████████▉                   | 2.9 MB 14.1 MB/s eta 0:00:01\r",
      "\u001b[K     |████████████▉                   | 3.0 MB 14.1 MB/s eta 0:00:01\r",
      "\u001b[K     |█████████████                   | 3.0 MB 14.1 MB/s eta 0:00:01\r",
      "\u001b[K     |█████████████                   | 3.0 MB 14.1 MB/s eta 0:00:01\r",
      "\u001b[K     |█████████████                   | 3.0 MB 14.1 MB/s eta 0:00:01\r",
      "\u001b[K     |█████████████                   | 3.0 MB 14.1 MB/s eta 0:00:01\r",
      "\u001b[K     |█████████████                   | 3.0 MB 14.1 MB/s eta 0:00:01\r",
      "\u001b[K     |█████████████▏                  | 3.0 MB 14.1 MB/s eta 0:00:01\r",
      "\u001b[K     |█████████████▏                  | 3.0 MB 14.1 MB/s eta 0:00:01\r",
      "\u001b[K     |█████████████▏                  | 3.0 MB 14.1 MB/s eta 0:00:01\r",
      "\u001b[K     |█████████████▎                  | 3.1 MB 14.1 MB/s eta 0:00:01\r",
      "\u001b[K     |█████████████▎                  | 3.1 MB 14.1 MB/s eta 0:00:01\r",
      "\u001b[K     |█████████████▍                  | 3.1 MB 14.1 MB/s eta 0:00:01\r",
      "\u001b[K     |█████████████▍                  | 3.1 MB 14.1 MB/s eta 0:00:01\r",
      "\u001b[K     |█████████████▍                  | 3.1 MB 14.1 MB/s eta 0:00:01\r",
      "\u001b[K     |█████████████▌                  | 3.1 MB 14.1 MB/s eta 0:00:01\r",
      "\u001b[K     |█████████████▌                  | 3.1 MB 14.1 MB/s eta 0:00:01\r",
      "\u001b[K     |█████████████▋                  | 3.1 MB 14.1 MB/s eta 0:00:01\r",
      "\u001b[K     |█████████████▋                  | 3.1 MB 14.1 MB/s eta 0:00:01\r",
      "\u001b[K     |█████████████▋                  | 3.1 MB 14.1 MB/s eta 0:00:01\r",
      "\u001b[K     |█████████████▊                  | 3.2 MB 14.1 MB/s eta 0:00:01\r",
      "\u001b[K     |█████████████▊                  | 3.2 MB 14.1 MB/s eta 0:00:01\r",
      "\u001b[K     |█████████████▉                  | 3.2 MB 14.1 MB/s eta 0:00:01\r",
      "\u001b[K     |█████████████▉                  | 3.2 MB 14.1 MB/s eta 0:00:01\r",
      "\u001b[K     |█████████████▉                  | 3.2 MB 14.1 MB/s eta 0:00:01\r",
      "\u001b[K     |██████████████                  | 3.2 MB 14.1 MB/s eta 0:00:01\r",
      "\u001b[K     |██████████████                  | 3.2 MB 14.1 MB/s eta 0:00:01\r",
      "\u001b[K     |██████████████                  | 3.2 MB 14.1 MB/s eta 0:00:01\r",
      "\u001b[K     |██████████████                  | 3.2 MB 14.1 MB/s eta 0:00:01\r",
      "\u001b[K     |██████████████                  | 3.2 MB 14.1 MB/s eta 0:00:01\r",
      "\u001b[K     |██████████████▏                 | 3.3 MB 14.1 MB/s eta 0:00:01\r",
      "\u001b[K     |██████████████▏                 | 3.3 MB 14.1 MB/s eta 0:00:01\r",
      "\u001b[K     |██████████████▎                 | 3.3 MB 14.1 MB/s eta 0:00:01\r",
      "\u001b[K     |██████████████▎                 | 3.3 MB 14.1 MB/s eta 0:00:01\r",
      "\u001b[K     |██████████████▎                 | 3.3 MB 14.1 MB/s eta 0:00:01\r",
      "\u001b[K     |██████████████▍                 | 3.3 MB 14.1 MB/s eta 0:00:01\r",
      "\u001b[K     |██████████████▍                 | 3.3 MB 14.1 MB/s eta 0:00:01\r",
      "\u001b[K     |██████████████▌                 | 3.3 MB 14.1 MB/s eta 0:00:01\r",
      "\u001b[K     |██████████████▌                 | 3.3 MB 14.1 MB/s eta 0:00:01\r",
      "\u001b[K     |██████████████▌                 | 3.3 MB 14.1 MB/s eta 0:00:01\r",
      "\u001b[K     |██████████████▋                 | 3.4 MB 14.1 MB/s eta 0:00:01\r",
      "\u001b[K     |██████████████▋                 | 3.4 MB 14.1 MB/s eta 0:00:01\r",
      "\u001b[K     |██████████████▊                 | 3.4 MB 14.1 MB/s eta 0:00:01\r",
      "\u001b[K     |██████████████▊                 | 3.4 MB 14.1 MB/s eta 0:00:01\r",
      "\u001b[K     |██████████████▊                 | 3.4 MB 14.1 MB/s eta 0:00:01\r",
      "\u001b[K     |██████████████▉                 | 3.4 MB 14.1 MB/s eta 0:00:01\r",
      "\u001b[K     |██████████████▉                 | 3.4 MB 14.1 MB/s eta 0:00:01\r",
      "\u001b[K     |███████████████                 | 3.4 MB 14.1 MB/s eta 0:00:01\r",
      "\u001b[K     |███████████████                 | 3.4 MB 14.1 MB/s eta 0:00:01\r",
      "\u001b[K     |███████████████                 | 3.5 MB 14.1 MB/s eta 0:00:01\r",
      "\u001b[K     |███████████████                 | 3.5 MB 14.1 MB/s eta 0:00:01\r",
      "\u001b[K     |███████████████                 | 3.5 MB 14.1 MB/s eta 0:00:01\r",
      "\u001b[K     |███████████████▏                | 3.5 MB 14.1 MB/s eta 0:00:01\r",
      "\u001b[K     |███████████████▏                | 3.5 MB 14.1 MB/s eta 0:00:01\r",
      "\u001b[K     |███████████████▏                | 3.5 MB 14.1 MB/s eta 0:00:01\r",
      "\u001b[K     |███████████████▎                | 3.5 MB 14.1 MB/s eta 0:00:01\r",
      "\u001b[K     |███████████████▎                | 3.5 MB 14.1 MB/s eta 0:00:01\r",
      "\u001b[K     |███████████████▍                | 3.5 MB 14.1 MB/s eta 0:00:01\r",
      "\u001b[K     |███████████████▍                | 3.5 MB 14.1 MB/s eta 0:00:01\r",
      "\u001b[K     |███████████████▍                | 3.6 MB 14.1 MB/s eta 0:00:01\r",
      "\u001b[K     |███████████████▌                | 3.6 MB 14.1 MB/s eta 0:00:01\r",
      "\u001b[K     |███████████████▌                | 3.6 MB 14.1 MB/s eta 0:00:01\r",
      "\u001b[K     |███████████████▋                | 3.6 MB 14.1 MB/s eta 0:00:01\r",
      "\u001b[K     |███████████████▋                | 3.6 MB 14.1 MB/s eta 0:00:01\r",
      "\u001b[K     |███████████████▋                | 3.6 MB 14.1 MB/s eta 0:00:01\r",
      "\u001b[K     |███████████████▊                | 3.6 MB 14.1 MB/s eta 0:00:01\r",
      "\u001b[K     |███████████████▊                | 3.6 MB 14.1 MB/s eta 0:00:01\r",
      "\u001b[K     |███████████████▉                | 3.6 MB 14.1 MB/s eta 0:00:01\r",
      "\u001b[K     |███████████████▉                | 3.6 MB 14.1 MB/s eta 0:00:01\r",
      "\u001b[K     |███████████████▉                | 3.7 MB 14.1 MB/s eta 0:00:01\r",
      "\u001b[K     |████████████████                | 3.7 MB 14.1 MB/s eta 0:00:01\r",
      "\u001b[K     |████████████████                | 3.7 MB 14.1 MB/s eta 0:00:01\r",
      "\u001b[K     |████████████████                | 3.7 MB 14.1 MB/s eta 0:00:01\r",
      "\u001b[K     |████████████████                | 3.7 MB 14.1 MB/s eta 0:00:01\r",
      "\u001b[K     |████████████████                | 3.7 MB 14.1 MB/s eta 0:00:01\r",
      "\u001b[K     |████████████████▏               | 3.7 MB 14.1 MB/s eta 0:00:01\r",
      "\u001b[K     |████████████████▏               | 3.7 MB 14.1 MB/s eta 0:00:01\r",
      "\u001b[K     |████████████████▎               | 3.7 MB 14.1 MB/s eta 0:00:01\r",
      "\u001b[K     |████████████████▎               | 3.7 MB 14.1 MB/s eta 0:00:01\r",
      "\u001b[K     |████████████████▎               | 3.8 MB 14.1 MB/s eta 0:00:01\r",
      "\u001b[K     |████████████████▍               | 3.8 MB 14.1 MB/s eta 0:00:01\r",
      "\u001b[K     |████████████████▍               | 3.8 MB 14.1 MB/s eta 0:00:01\r",
      "\u001b[K     |████████████████▌               | 3.8 MB 14.1 MB/s eta 0:00:01\r",
      "\u001b[K     |████████████████▌               | 3.8 MB 14.1 MB/s eta 0:00:01\r",
      "\u001b[K     |████████████████▌               | 3.8 MB 14.1 MB/s eta 0:00:01\r",
      "\u001b[K     |████████████████▋               | 3.8 MB 14.1 MB/s eta 0:00:01\r",
      "\u001b[K     |████████████████▋               | 3.8 MB 14.1 MB/s eta 0:00:01\r",
      "\u001b[K     |████████████████▊               | 3.8 MB 14.1 MB/s eta 0:00:01\r",
      "\u001b[K     |████████████████▊               | 3.9 MB 14.1 MB/s eta 0:00:01\r",
      "\u001b[K     |████████████████▊               | 3.9 MB 14.1 MB/s eta 0:00:01\r",
      "\u001b[K     |████████████████▉               | 3.9 MB 14.1 MB/s eta 0:00:01\r",
      "\u001b[K     |████████████████▉               | 3.9 MB 14.1 MB/s eta 0:00:01\r",
      "\u001b[K     |█████████████████               | 3.9 MB 14.1 MB/s eta 0:00:01\r",
      "\u001b[K     |█████████████████               | 3.9 MB 14.1 MB/s eta 0:00:01\r",
      "\u001b[K     |█████████████████               | 3.9 MB 14.1 MB/s eta 0:00:01\r",
      "\u001b[K     |█████████████████               | 3.9 MB 14.1 MB/s eta 0:00:01\r",
      "\u001b[K     |█████████████████               | 3.9 MB 14.1 MB/s eta 0:00:01\r",
      "\u001b[K     |█████████████████▏              | 3.9 MB 14.1 MB/s eta 0:00:01\r",
      "\u001b[K     |█████████████████▏              | 4.0 MB 14.1 MB/s eta 0:00:01\r",
      "\u001b[K     |█████████████████▏              | 4.0 MB 14.1 MB/s eta 0:00:01\r",
      "\u001b[K     |█████████████████▎              | 4.0 MB 14.1 MB/s eta 0:00:01\r",
      "\u001b[K     |█████████████████▎              | 4.0 MB 14.1 MB/s eta 0:00:01\r",
      "\u001b[K     |█████████████████▍              | 4.0 MB 14.1 MB/s eta 0:00:01\r",
      "\u001b[K     |█████████████████▍              | 4.0 MB 14.1 MB/s eta 0:00:01\r",
      "\u001b[K     |█████████████████▍              | 4.0 MB 14.1 MB/s eta 0:00:01\r",
      "\u001b[K     |█████████████████▌              | 4.0 MB 14.1 MB/s eta 0:00:01\r",
      "\u001b[K     |█████████████████▌              | 4.0 MB 14.1 MB/s eta 0:00:01\r",
      "\u001b[K     |█████████████████▋              | 4.0 MB 14.1 MB/s eta 0:00:01\r",
      "\u001b[K     |█████████████████▋              | 4.1 MB 14.1 MB/s eta 0:00:01\r",
      "\u001b[K     |█████████████████▋              | 4.1 MB 14.1 MB/s eta 0:00:01\r",
      "\u001b[K     |█████████████████▊              | 4.1 MB 14.1 MB/s eta 0:00:01\r",
      "\u001b[K     |█████████████████▊              | 4.1 MB 14.1 MB/s eta 0:00:01\r",
      "\u001b[K     |█████████████████▉              | 4.1 MB 14.1 MB/s eta 0:00:01\r",
      "\u001b[K     |█████████████████▉              | 4.1 MB 14.1 MB/s eta 0:00:01"
     ]
    },
    {
     "name": "stdout",
     "output_type": "stream",
     "text": [
      "\r",
      "\u001b[K     |█████████████████▉              | 4.1 MB 14.1 MB/s eta 0:00:01\r",
      "\u001b[K     |██████████████████              | 4.1 MB 14.1 MB/s eta 0:00:01\r",
      "\u001b[K     |██████████████████              | 4.1 MB 14.1 MB/s eta 0:00:01\r",
      "\u001b[K     |██████████████████              | 4.1 MB 14.1 MB/s eta 0:00:01\r",
      "\u001b[K     |██████████████████              | 4.2 MB 14.1 MB/s eta 0:00:01\r",
      "\u001b[K     |██████████████████              | 4.2 MB 14.1 MB/s eta 0:00:01\r",
      "\u001b[K     |██████████████████▏             | 4.2 MB 14.1 MB/s eta 0:00:01\r",
      "\u001b[K     |██████████████████▏             | 4.2 MB 14.1 MB/s eta 0:00:01\r",
      "\u001b[K     |██████████████████▎             | 4.2 MB 14.1 MB/s eta 0:00:01\r",
      "\u001b[K     |██████████████████▎             | 4.2 MB 14.1 MB/s eta 0:00:01\r",
      "\u001b[K     |██████████████████▎             | 4.2 MB 14.1 MB/s eta 0:00:01\r",
      "\u001b[K     |██████████████████▍             | 4.2 MB 14.1 MB/s eta 0:00:01\r",
      "\u001b[K     |██████████████████▍             | 4.2 MB 14.1 MB/s eta 0:00:01\r",
      "\u001b[K     |██████████████████▌             | 4.2 MB 14.1 MB/s eta 0:00:01\r",
      "\u001b[K     |██████████████████▌             | 4.3 MB 14.1 MB/s eta 0:00:01\r",
      "\u001b[K     |██████████████████▌             | 4.3 MB 14.1 MB/s eta 0:00:01\r",
      "\u001b[K     |██████████████████▋             | 4.3 MB 14.1 MB/s eta 0:00:01\r",
      "\u001b[K     |██████████████████▋             | 4.3 MB 14.1 MB/s eta 0:00:01\r",
      "\u001b[K     |██████████████████▊             | 4.3 MB 14.1 MB/s eta 0:00:01\r",
      "\u001b[K     |██████████████████▊             | 4.3 MB 14.1 MB/s eta 0:00:01\r",
      "\u001b[K     |██████████████████▊             | 4.3 MB 14.1 MB/s eta 0:00:01\r",
      "\u001b[K     |██████████████████▉             | 4.3 MB 14.1 MB/s eta 0:00:01\r",
      "\u001b[K     |██████████████████▉             | 4.3 MB 14.1 MB/s eta 0:00:01\r",
      "\u001b[K     |███████████████████             | 4.4 MB 14.1 MB/s eta 0:00:01\r",
      "\u001b[K     |███████████████████             | 4.4 MB 14.1 MB/s eta 0:00:01\r",
      "\u001b[K     |███████████████████             | 4.4 MB 14.1 MB/s eta 0:00:01\r",
      "\u001b[K     |███████████████████             | 4.4 MB 14.1 MB/s eta 0:00:01\r",
      "\u001b[K     |███████████████████             | 4.4 MB 14.1 MB/s eta 0:00:01\r",
      "\u001b[K     |███████████████████▏            | 4.4 MB 14.1 MB/s eta 0:00:01\r",
      "\u001b[K     |███████████████████▏            | 4.4 MB 14.1 MB/s eta 0:00:01\r",
      "\u001b[K     |███████████████████▏            | 4.4 MB 14.1 MB/s eta 0:00:01\r",
      "\u001b[K     |███████████████████▎            | 4.4 MB 14.1 MB/s eta 0:00:01\r",
      "\u001b[K     |███████████████████▎            | 4.4 MB 14.1 MB/s eta 0:00:01\r",
      "\u001b[K     |███████████████████▍            | 4.5 MB 14.1 MB/s eta 0:00:01\r",
      "\u001b[K     |███████████████████▍            | 4.5 MB 14.1 MB/s eta 0:00:01\r",
      "\u001b[K     |███████████████████▍            | 4.5 MB 14.1 MB/s eta 0:00:01\r",
      "\u001b[K     |███████████████████▌            | 4.5 MB 14.1 MB/s eta 0:00:01\r",
      "\u001b[K     |███████████████████▌            | 4.5 MB 14.1 MB/s eta 0:00:01\r",
      "\u001b[K     |███████████████████▋            | 4.5 MB 14.1 MB/s eta 0:00:01\r",
      "\u001b[K     |███████████████████▋            | 4.5 MB 14.1 MB/s eta 0:00:01\r",
      "\u001b[K     |███████████████████▋            | 4.5 MB 14.1 MB/s eta 0:00:01\r",
      "\u001b[K     |███████████████████▊            | 4.5 MB 14.1 MB/s eta 0:00:01\r",
      "\u001b[K     |███████████████████▊            | 4.5 MB 14.1 MB/s eta 0:00:01\r",
      "\u001b[K     |███████████████████▉            | 4.6 MB 14.1 MB/s eta 0:00:01\r",
      "\u001b[K     |███████████████████▉            | 4.6 MB 14.1 MB/s eta 0:00:01\r",
      "\u001b[K     |███████████████████▉            | 4.6 MB 14.1 MB/s eta 0:00:01\r",
      "\u001b[K     |████████████████████            | 4.6 MB 14.1 MB/s eta 0:00:01\r",
      "\u001b[K     |████████████████████            | 4.6 MB 14.1 MB/s eta 0:00:01\r",
      "\u001b[K     |████████████████████            | 4.6 MB 14.1 MB/s eta 0:00:01\r",
      "\u001b[K     |████████████████████            | 4.6 MB 14.1 MB/s eta 0:00:01\r",
      "\u001b[K     |████████████████████            | 4.6 MB 14.1 MB/s eta 0:00:01\r",
      "\u001b[K     |████████████████████▏           | 4.6 MB 14.1 MB/s eta 0:00:01\r",
      "\u001b[K     |████████████████████▏           | 4.6 MB 14.1 MB/s eta 0:00:01\r",
      "\u001b[K     |████████████████████▎           | 4.7 MB 14.1 MB/s eta 0:00:01\r",
      "\u001b[K     |████████████████████▎           | 4.7 MB 14.1 MB/s eta 0:00:01\r",
      "\u001b[K     |████████████████████▎           | 4.7 MB 14.1 MB/s eta 0:00:01\r",
      "\u001b[K     |████████████████████▍           | 4.7 MB 14.1 MB/s eta 0:00:01\r",
      "\u001b[K     |████████████████████▍           | 4.7 MB 14.1 MB/s eta 0:00:01\r",
      "\u001b[K     |████████████████████▌           | 4.7 MB 14.1 MB/s eta 0:00:01\r",
      "\u001b[K     |████████████████████▌           | 4.7 MB 14.1 MB/s eta 0:00:01\r",
      "\u001b[K     |████████████████████▌           | 4.7 MB 14.1 MB/s eta 0:00:01\r",
      "\u001b[K     |████████████████████▋           | 4.7 MB 14.1 MB/s eta 0:00:01\r",
      "\u001b[K     |████████████████████▋           | 4.8 MB 14.1 MB/s eta 0:00:01\r",
      "\u001b[K     |████████████████████▊           | 4.8 MB 14.1 MB/s eta 0:00:01\r",
      "\u001b[K     |████████████████████▊           | 4.8 MB 14.1 MB/s eta 0:00:01\r",
      "\u001b[K     |████████████████████▊           | 4.8 MB 14.1 MB/s eta 0:00:01\r",
      "\u001b[K     |████████████████████▉           | 4.8 MB 14.1 MB/s eta 0:00:01\r",
      "\u001b[K     |████████████████████▉           | 4.8 MB 14.1 MB/s eta 0:00:01\r",
      "\u001b[K     |█████████████████████           | 4.8 MB 14.1 MB/s eta 0:00:01\r",
      "\u001b[K     |█████████████████████           | 4.8 MB 14.1 MB/s eta 0:00:01\r",
      "\u001b[K     |█████████████████████           | 4.8 MB 14.1 MB/s eta 0:00:01\r",
      "\u001b[K     |█████████████████████           | 4.8 MB 14.1 MB/s eta 0:00:01\r",
      "\u001b[K     |█████████████████████           | 4.9 MB 14.1 MB/s eta 0:00:01\r",
      "\u001b[K     |█████████████████████▏          | 4.9 MB 14.1 MB/s eta 0:00:01\r",
      "\u001b[K     |█████████████████████▏          | 4.9 MB 14.1 MB/s eta 0:00:01\r",
      "\u001b[K     |█████████████████████▏          | 4.9 MB 14.1 MB/s eta 0:00:01\r",
      "\u001b[K     |█████████████████████▎          | 4.9 MB 14.1 MB/s eta 0:00:01\r",
      "\u001b[K     |█████████████████████▎          | 4.9 MB 14.1 MB/s eta 0:00:01\r",
      "\u001b[K     |█████████████████████▍          | 4.9 MB 14.1 MB/s eta 0:00:01\r",
      "\u001b[K     |█████████████████████▍          | 4.9 MB 14.1 MB/s eta 0:00:01\r",
      "\u001b[K     |█████████████████████▍          | 4.9 MB 14.1 MB/s eta 0:00:01\r",
      "\u001b[K     |█████████████████████▌          | 4.9 MB 14.1 MB/s eta 0:00:01\r",
      "\u001b[K     |█████████████████████▌          | 5.0 MB 14.1 MB/s eta 0:00:01\r",
      "\u001b[K     |█████████████████████▋          | 5.0 MB 14.1 MB/s eta 0:00:01\r",
      "\u001b[K     |█████████████████████▋          | 5.0 MB 14.1 MB/s eta 0:00:01\r",
      "\u001b[K     |█████████████████████▋          | 5.0 MB 14.1 MB/s eta 0:00:01\r",
      "\u001b[K     |█████████████████████▊          | 5.0 MB 14.1 MB/s eta 0:00:01\r",
      "\u001b[K     |█████████████████████▊          | 5.0 MB 14.1 MB/s eta 0:00:01\r",
      "\u001b[K     |█████████████████████▉          | 5.0 MB 14.1 MB/s eta 0:00:01\r",
      "\u001b[K     |█████████████████████▉          | 5.0 MB 14.1 MB/s eta 0:00:01\r",
      "\u001b[K     |█████████████████████▉          | 5.0 MB 14.1 MB/s eta 0:00:01\r",
      "\u001b[K     |██████████████████████          | 5.0 MB 14.1 MB/s eta 0:00:01\r",
      "\u001b[K     |██████████████████████          | 5.1 MB 14.1 MB/s eta 0:00:01\r",
      "\u001b[K     |██████████████████████          | 5.1 MB 14.1 MB/s eta 0:00:01\r",
      "\u001b[K     |██████████████████████          | 5.1 MB 14.1 MB/s eta 0:00:01\r",
      "\u001b[K     |██████████████████████          | 5.1 MB 14.1 MB/s eta 0:00:01\r",
      "\u001b[K     |██████████████████████▏         | 5.1 MB 14.1 MB/s eta 0:00:01\r",
      "\u001b[K     |██████████████████████▏         | 5.1 MB 14.1 MB/s eta 0:00:01\r",
      "\u001b[K     |██████████████████████▎         | 5.1 MB 14.1 MB/s eta 0:00:01\r",
      "\u001b[K     |██████████████████████▎         | 5.1 MB 14.1 MB/s eta 0:00:01\r",
      "\u001b[K     |██████████████████████▎         | 5.1 MB 14.1 MB/s eta 0:00:01\r",
      "\u001b[K     |██████████████████████▍         | 5.2 MB 14.1 MB/s eta 0:00:01\r",
      "\u001b[K     |██████████████████████▍         | 5.2 MB 14.1 MB/s eta 0:00:01\r",
      "\u001b[K     |██████████████████████▌         | 5.2 MB 14.1 MB/s eta 0:00:01\r",
      "\u001b[K     |██████████████████████▌         | 5.2 MB 14.1 MB/s eta 0:00:01\r",
      "\u001b[K     |██████████████████████▌         | 5.2 MB 14.1 MB/s eta 0:00:01\r",
      "\u001b[K     |██████████████████████▋         | 5.2 MB 14.1 MB/s eta 0:00:01\r",
      "\u001b[K     |██████████████████████▋         | 5.2 MB 14.1 MB/s eta 0:00:01\r",
      "\u001b[K     |██████████████████████▊         | 5.2 MB 14.1 MB/s eta 0:00:01\r",
      "\u001b[K     |██████████████████████▊         | 5.2 MB 14.1 MB/s eta 0:00:01\r",
      "\u001b[K     |██████████████████████▊         | 5.2 MB 14.1 MB/s eta 0:00:01\r",
      "\u001b[K     |██████████████████████▉         | 5.3 MB 14.1 MB/s eta 0:00:01\r",
      "\u001b[K     |██████████████████████▉         | 5.3 MB 14.1 MB/s eta 0:00:01\r",
      "\u001b[K     |███████████████████████         | 5.3 MB 14.1 MB/s eta 0:00:01\r",
      "\u001b[K     |███████████████████████         | 5.3 MB 14.1 MB/s eta 0:00:01\r",
      "\u001b[K     |███████████████████████         | 5.3 MB 14.1 MB/s eta 0:00:01\r",
      "\u001b[K     |███████████████████████         | 5.3 MB 14.1 MB/s eta 0:00:01\r",
      "\u001b[K     |███████████████████████         | 5.3 MB 14.1 MB/s eta 0:00:01"
     ]
    },
    {
     "name": "stdout",
     "output_type": "stream",
     "text": [
      "\r",
      "\u001b[K     |███████████████████████▏        | 5.3 MB 14.1 MB/s eta 0:00:01\r",
      "\u001b[K     |███████████████████████▏        | 5.3 MB 14.1 MB/s eta 0:00:01\r",
      "\u001b[K     |███████████████████████▏        | 5.3 MB 14.1 MB/s eta 0:00:01\r",
      "\u001b[K     |███████████████████████▎        | 5.4 MB 14.1 MB/s eta 0:00:01\r",
      "\u001b[K     |███████████████████████▎        | 5.4 MB 14.1 MB/s eta 0:00:01\r",
      "\u001b[K     |███████████████████████▍        | 5.4 MB 14.1 MB/s eta 0:00:01\r",
      "\u001b[K     |███████████████████████▍        | 5.4 MB 14.1 MB/s eta 0:00:01\r",
      "\u001b[K     |███████████████████████▍        | 5.4 MB 14.1 MB/s eta 0:00:01\r",
      "\u001b[K     |███████████████████████▌        | 5.4 MB 14.1 MB/s eta 0:00:01\r",
      "\u001b[K     |███████████████████████▌        | 5.4 MB 14.1 MB/s eta 0:00:01\r",
      "\u001b[K     |███████████████████████▋        | 5.4 MB 14.1 MB/s eta 0:00:01\r",
      "\u001b[K     |███████████████████████▋        | 5.4 MB 14.1 MB/s eta 0:00:01\r",
      "\u001b[K     |███████████████████████▋        | 5.4 MB 14.1 MB/s eta 0:00:01\r",
      "\u001b[K     |███████████████████████▊        | 5.5 MB 14.1 MB/s eta 0:00:01\r",
      "\u001b[K     |███████████████████████▊        | 5.5 MB 14.1 MB/s eta 0:00:01\r",
      "\u001b[K     |███████████████████████▉        | 5.5 MB 14.1 MB/s eta 0:00:01\r",
      "\u001b[K     |███████████████████████▉        | 5.5 MB 14.1 MB/s eta 0:00:01\r",
      "\u001b[K     |███████████████████████▉        | 5.5 MB 14.1 MB/s eta 0:00:01\r",
      "\u001b[K     |████████████████████████        | 5.5 MB 14.1 MB/s eta 0:00:01\r",
      "\u001b[K     |████████████████████████        | 5.5 MB 14.1 MB/s eta 0:00:01\r",
      "\u001b[K     |████████████████████████        | 5.5 MB 14.1 MB/s eta 0:00:01\r",
      "\u001b[K     |████████████████████████        | 5.5 MB 14.1 MB/s eta 0:00:01\r",
      "\u001b[K     |████████████████████████        | 5.6 MB 14.1 MB/s eta 0:00:01\r",
      "\u001b[K     |████████████████████████▏       | 5.6 MB 14.1 MB/s eta 0:00:01\r",
      "\u001b[K     |████████████████████████▏       | 5.6 MB 14.1 MB/s eta 0:00:01\r",
      "\u001b[K     |████████████████████████▎       | 5.6 MB 14.1 MB/s eta 0:00:01\r",
      "\u001b[K     |████████████████████████▎       | 5.6 MB 14.1 MB/s eta 0:00:01\r",
      "\u001b[K     |████████████████████████▎       | 5.6 MB 14.1 MB/s eta 0:00:01\r",
      "\u001b[K     |████████████████████████▍       | 5.6 MB 14.1 MB/s eta 0:00:01\r",
      "\u001b[K     |████████████████████████▍       | 5.6 MB 14.1 MB/s eta 0:00:01\r",
      "\u001b[K     |████████████████████████▌       | 5.6 MB 14.1 MB/s eta 0:00:01\r",
      "\u001b[K     |████████████████████████▌       | 5.6 MB 14.1 MB/s eta 0:00:01\r",
      "\u001b[K     |████████████████████████▌       | 5.7 MB 14.1 MB/s eta 0:00:01\r",
      "\u001b[K     |████████████████████████▋       | 5.7 MB 14.1 MB/s eta 0:00:01\r",
      "\u001b[K     |████████████████████████▋       | 5.7 MB 14.1 MB/s eta 0:00:01\r",
      "\u001b[K     |████████████████████████▊       | 5.7 MB 14.1 MB/s eta 0:00:01\r",
      "\u001b[K     |████████████████████████▊       | 5.7 MB 14.1 MB/s eta 0:00:01\r",
      "\u001b[K     |████████████████████████▊       | 5.7 MB 14.1 MB/s eta 0:00:01\r",
      "\u001b[K     |████████████████████████▉       | 5.7 MB 14.1 MB/s eta 0:00:01\r",
      "\u001b[K     |████████████████████████▉       | 5.7 MB 14.1 MB/s eta 0:00:01\r",
      "\u001b[K     |█████████████████████████       | 5.7 MB 14.1 MB/s eta 0:00:01\r",
      "\u001b[K     |█████████████████████████       | 5.7 MB 14.1 MB/s eta 0:00:01\r",
      "\u001b[K     |█████████████████████████       | 5.8 MB 14.1 MB/s eta 0:00:01\r",
      "\u001b[K     |█████████████████████████       | 5.8 MB 14.1 MB/s eta 0:00:01\r",
      "\u001b[K     |█████████████████████████       | 5.8 MB 14.1 MB/s eta 0:00:01\r",
      "\u001b[K     |█████████████████████████▏      | 5.8 MB 14.1 MB/s eta 0:00:01\r",
      "\u001b[K     |█████████████████████████▏      | 5.8 MB 14.1 MB/s eta 0:00:01\r",
      "\u001b[K     |█████████████████████████▏      | 5.8 MB 14.1 MB/s eta 0:00:01\r",
      "\u001b[K     |█████████████████████████▎      | 5.8 MB 14.1 MB/s eta 0:00:01\r",
      "\u001b[K     |█████████████████████████▎      | 5.8 MB 14.1 MB/s eta 0:00:01\r",
      "\u001b[K     |█████████████████████████▍      | 5.8 MB 14.1 MB/s eta 0:00:01\r",
      "\u001b[K     |█████████████████████████▍      | 5.8 MB 14.1 MB/s eta 0:00:01\r",
      "\u001b[K     |█████████████████████████▍      | 5.9 MB 14.1 MB/s eta 0:00:01\r",
      "\u001b[K     |█████████████████████████▌      | 5.9 MB 14.1 MB/s eta 0:00:01\r",
      "\u001b[K     |█████████████████████████▌      | 5.9 MB 14.1 MB/s eta 0:00:01\r",
      "\u001b[K     |█████████████████████████▋      | 5.9 MB 14.1 MB/s eta 0:00:01\r",
      "\u001b[K     |█████████████████████████▋      | 5.9 MB 14.1 MB/s eta 0:00:01\r",
      "\u001b[K     |█████████████████████████▋      | 5.9 MB 14.1 MB/s eta 0:00:01\r",
      "\u001b[K     |█████████████████████████▊      | 5.9 MB 14.1 MB/s eta 0:00:01\r",
      "\u001b[K     |█████████████████████████▊      | 5.9 MB 14.1 MB/s eta 0:00:01\r",
      "\u001b[K     |█████████████████████████▉      | 5.9 MB 14.1 MB/s eta 0:00:01\r",
      "\u001b[K     |█████████████████████████▉      | 5.9 MB 14.1 MB/s eta 0:00:01\r",
      "\u001b[K     |█████████████████████████▉      | 6.0 MB 14.1 MB/s eta 0:00:01\r",
      "\u001b[K     |██████████████████████████      | 6.0 MB 14.1 MB/s eta 0:00:01\r",
      "\u001b[K     |██████████████████████████      | 6.0 MB 14.1 MB/s eta 0:00:01\r",
      "\u001b[K     |██████████████████████████      | 6.0 MB 14.1 MB/s eta 0:00:01\r",
      "\u001b[K     |██████████████████████████      | 6.0 MB 14.1 MB/s eta 0:00:01\r",
      "\u001b[K     |██████████████████████████      | 6.0 MB 14.1 MB/s eta 0:00:01\r",
      "\u001b[K     |██████████████████████████▏     | 6.0 MB 14.1 MB/s eta 0:00:01\r",
      "\u001b[K     |██████████████████████████▏     | 6.0 MB 14.1 MB/s eta 0:00:01\r",
      "\u001b[K     |██████████████████████████▎     | 6.0 MB 14.1 MB/s eta 0:00:01\r",
      "\u001b[K     |██████████████████████████▎     | 6.1 MB 14.1 MB/s eta 0:00:01\r",
      "\u001b[K     |██████████████████████████▎     | 6.1 MB 14.1 MB/s eta 0:00:01\r",
      "\u001b[K     |██████████████████████████▍     | 6.1 MB 14.1 MB/s eta 0:00:01\r",
      "\u001b[K     |██████████████████████████▍     | 6.1 MB 14.1 MB/s eta 0:00:01\r",
      "\u001b[K     |██████████████████████████▌     | 6.1 MB 14.1 MB/s eta 0:00:01\r",
      "\u001b[K     |██████████████████████████▌     | 6.1 MB 14.1 MB/s eta 0:00:01\r",
      "\u001b[K     |██████████████████████████▌     | 6.1 MB 14.1 MB/s eta 0:00:01\r",
      "\u001b[K     |██████████████████████████▋     | 6.1 MB 14.1 MB/s eta 0:00:01\r",
      "\u001b[K     |██████████████████████████▋     | 6.1 MB 14.1 MB/s eta 0:00:01\r",
      "\u001b[K     |██████████████████████████▊     | 6.1 MB 14.1 MB/s eta 0:00:01\r",
      "\u001b[K     |██████████████████████████▊     | 6.2 MB 14.1 MB/s eta 0:00:01\r",
      "\u001b[K     |██████████████████████████▊     | 6.2 MB 14.1 MB/s eta 0:00:01\r",
      "\u001b[K     |██████████████████████████▉     | 6.2 MB 14.1 MB/s eta 0:00:01\r",
      "\u001b[K     |██████████████████████████▉     | 6.2 MB 14.1 MB/s eta 0:00:01\r",
      "\u001b[K     |███████████████████████████     | 6.2 MB 14.1 MB/s eta 0:00:01\r",
      "\u001b[K     |███████████████████████████     | 6.2 MB 14.1 MB/s eta 0:00:01\r",
      "\u001b[K     |███████████████████████████     | 6.2 MB 14.1 MB/s eta 0:00:01\r",
      "\u001b[K     |███████████████████████████     | 6.2 MB 14.1 MB/s eta 0:00:01\r",
      "\u001b[K     |███████████████████████████     | 6.2 MB 14.1 MB/s eta 0:00:01\r",
      "\u001b[K     |███████████████████████████▏    | 6.2 MB 14.1 MB/s eta 0:00:01\r",
      "\u001b[K     |███████████████████████████▏    | 6.3 MB 14.1 MB/s eta 0:00:01\r",
      "\u001b[K     |███████████████████████████▏    | 6.3 MB 14.1 MB/s eta 0:00:01\r",
      "\u001b[K     |███████████████████████████▎    | 6.3 MB 14.1 MB/s eta 0:00:01\r",
      "\u001b[K     |███████████████████████████▎    | 6.3 MB 14.1 MB/s eta 0:00:01\r",
      "\u001b[K     |███████████████████████████▍    | 6.3 MB 14.1 MB/s eta 0:00:01\r",
      "\u001b[K     |███████████████████████████▍    | 6.3 MB 14.1 MB/s eta 0:00:01\r",
      "\u001b[K     |███████████████████████████▍    | 6.3 MB 14.1 MB/s eta 0:00:01\r",
      "\u001b[K     |███████████████████████████▌    | 6.3 MB 14.1 MB/s eta 0:00:01\r",
      "\u001b[K     |███████████████████████████▌    | 6.3 MB 14.1 MB/s eta 0:00:01\r",
      "\u001b[K     |███████████████████████████▋    | 6.3 MB 14.1 MB/s eta 0:00:01\r",
      "\u001b[K     |███████████████████████████▋    | 6.4 MB 14.1 MB/s eta 0:00:01\r",
      "\u001b[K     |███████████████████████████▋    | 6.4 MB 14.1 MB/s eta 0:00:01\r",
      "\u001b[K     |███████████████████████████▊    | 6.4 MB 14.1 MB/s eta 0:00:01\r",
      "\u001b[K     |███████████████████████████▊    | 6.4 MB 14.1 MB/s eta 0:00:01\r",
      "\u001b[K     |███████████████████████████▉    | 6.4 MB 14.1 MB/s eta 0:00:01\r",
      "\u001b[K     |███████████████████████████▉    | 6.4 MB 14.1 MB/s eta 0:00:01\r",
      "\u001b[K     |███████████████████████████▉    | 6.4 MB 14.1 MB/s eta 0:00:01\r",
      "\u001b[K     |████████████████████████████    | 6.4 MB 14.1 MB/s eta 0:00:01\r",
      "\u001b[K     |████████████████████████████    | 6.4 MB 14.1 MB/s eta 0:00:01\r",
      "\u001b[K     |████████████████████████████    | 6.5 MB 14.1 MB/s eta 0:00:01\r",
      "\u001b[K     |████████████████████████████    | 6.5 MB 14.1 MB/s eta 0:00:01\r",
      "\u001b[K     |████████████████████████████    | 6.5 MB 14.1 MB/s eta 0:00:01\r",
      "\u001b[K     |████████████████████████████▏   | 6.5 MB 14.1 MB/s eta 0:00:01\r",
      "\u001b[K     |████████████████████████████▏   | 6.5 MB 14.1 MB/s eta 0:00:01\r",
      "\u001b[K     |████████████████████████████▎   | 6.5 MB 14.1 MB/s eta 0:00:01\r",
      "\u001b[K     |████████████████████████████▎   | 6.5 MB 14.1 MB/s eta 0:00:01\r",
      "\u001b[K     |████████████████████████████▎   | 6.5 MB 14.1 MB/s eta 0:00:01\r",
      "\u001b[K     |████████████████████████████▍   | 6.5 MB 14.1 MB/s eta 0:00:01"
     ]
    },
    {
     "name": "stdout",
     "output_type": "stream",
     "text": [
      "\r",
      "\u001b[K     |████████████████████████████▍   | 6.5 MB 14.1 MB/s eta 0:00:01\r",
      "\u001b[K     |████████████████████████████▌   | 6.6 MB 14.1 MB/s eta 0:00:01\r",
      "\u001b[K     |████████████████████████████▌   | 6.6 MB 14.1 MB/s eta 0:00:01\r",
      "\u001b[K     |████████████████████████████▌   | 6.6 MB 14.1 MB/s eta 0:00:01\r",
      "\u001b[K     |████████████████████████████▋   | 6.6 MB 14.1 MB/s eta 0:00:01\r",
      "\u001b[K     |████████████████████████████▋   | 6.6 MB 14.1 MB/s eta 0:00:01\r",
      "\u001b[K     |████████████████████████████▊   | 6.6 MB 14.1 MB/s eta 0:00:01\r",
      "\u001b[K     |████████████████████████████▊   | 6.6 MB 14.1 MB/s eta 0:00:01\r",
      "\u001b[K     |████████████████████████████▊   | 6.6 MB 14.1 MB/s eta 0:00:01\r",
      "\u001b[K     |████████████████████████████▉   | 6.6 MB 14.1 MB/s eta 0:00:01\r",
      "\u001b[K     |████████████████████████████▉   | 6.6 MB 14.1 MB/s eta 0:00:01\r",
      "\u001b[K     |█████████████████████████████   | 6.7 MB 14.1 MB/s eta 0:00:01\r",
      "\u001b[K     |█████████████████████████████   | 6.7 MB 14.1 MB/s eta 0:00:01\r",
      "\u001b[K     |█████████████████████████████   | 6.7 MB 14.1 MB/s eta 0:00:01\r",
      "\u001b[K     |█████████████████████████████   | 6.7 MB 14.1 MB/s eta 0:00:01\r",
      "\u001b[K     |█████████████████████████████   | 6.7 MB 14.1 MB/s eta 0:00:01\r",
      "\u001b[K     |█████████████████████████████▏  | 6.7 MB 14.1 MB/s eta 0:00:01\r",
      "\u001b[K     |█████████████████████████████▏  | 6.7 MB 14.1 MB/s eta 0:00:01\r",
      "\u001b[K     |█████████████████████████████▏  | 6.7 MB 14.1 MB/s eta 0:00:01\r",
      "\u001b[K     |█████████████████████████████▎  | 6.7 MB 14.1 MB/s eta 0:00:01\r",
      "\u001b[K     |█████████████████████████████▎  | 6.7 MB 14.1 MB/s eta 0:00:01\r",
      "\u001b[K     |█████████████████████████████▍  | 6.8 MB 14.1 MB/s eta 0:00:01\r",
      "\u001b[K     |█████████████████████████████▍  | 6.8 MB 14.1 MB/s eta 0:00:01\r",
      "\u001b[K     |█████████████████████████████▌  | 6.8 MB 14.1 MB/s eta 0:00:01\r",
      "\u001b[K     |█████████████████████████████▌  | 6.8 MB 14.1 MB/s eta 0:00:01\r",
      "\u001b[K     |█████████████████████████████▌  | 6.8 MB 14.1 MB/s eta 0:00:01\r",
      "\u001b[K     |█████████████████████████████▋  | 6.8 MB 14.1 MB/s eta 0:00:01\r",
      "\u001b[K     |█████████████████████████████▋  | 6.8 MB 14.1 MB/s eta 0:00:01\r",
      "\u001b[K     |█████████████████████████████▊  | 6.8 MB 14.1 MB/s eta 0:00:01\r",
      "\u001b[K     |█████████████████████████████▊  | 6.8 MB 14.1 MB/s eta 0:00:01\r",
      "\u001b[K     |█████████████████████████████▊  | 6.9 MB 14.1 MB/s eta 0:00:01\r",
      "\u001b[K     |█████████████████████████████▉  | 6.9 MB 14.1 MB/s eta 0:00:01\r",
      "\u001b[K     |█████████████████████████████▉  | 6.9 MB 14.1 MB/s eta 0:00:01\r",
      "\u001b[K     |██████████████████████████████  | 6.9 MB 14.1 MB/s eta 0:00:01\r",
      "\u001b[K     |██████████████████████████████  | 6.9 MB 14.1 MB/s eta 0:00:01\r",
      "\u001b[K     |██████████████████████████████  | 6.9 MB 14.1 MB/s eta 0:00:01\r",
      "\u001b[K     |██████████████████████████████  | 6.9 MB 14.1 MB/s eta 0:00:01\r",
      "\u001b[K     |██████████████████████████████  | 6.9 MB 14.1 MB/s eta 0:00:01\r",
      "\u001b[K     |██████████████████████████████▏ | 6.9 MB 14.1 MB/s eta 0:00:01\r",
      "\u001b[K     |██████████████████████████████▏ | 6.9 MB 14.1 MB/s eta 0:00:01\r",
      "\u001b[K     |██████████████████████████████▏ | 7.0 MB 14.1 MB/s eta 0:00:01\r",
      "\u001b[K     |██████████████████████████████▎ | 7.0 MB 14.1 MB/s eta 0:00:01\r",
      "\u001b[K     |██████████████████████████████▎ | 7.0 MB 14.1 MB/s eta 0:00:01\r",
      "\u001b[K     |██████████████████████████████▍ | 7.0 MB 14.1 MB/s eta 0:00:01\r",
      "\u001b[K     |██████████████████████████████▍ | 7.0 MB 14.1 MB/s eta 0:00:01\r",
      "\u001b[K     |██████████████████████████████▍ | 7.0 MB 14.1 MB/s eta 0:00:01\r",
      "\u001b[K     |██████████████████████████████▌ | 7.0 MB 14.1 MB/s eta 0:00:01\r",
      "\u001b[K     |██████████████████████████████▌ | 7.0 MB 14.1 MB/s eta 0:00:01\r",
      "\u001b[K     |██████████████████████████████▋ | 7.0 MB 14.1 MB/s eta 0:00:01\r",
      "\u001b[K     |██████████████████████████████▋ | 7.0 MB 14.1 MB/s eta 0:00:01\r",
      "\u001b[K     |██████████████████████████████▋ | 7.1 MB 14.1 MB/s eta 0:00:01\r",
      "\u001b[K     |██████████████████████████████▊ | 7.1 MB 14.1 MB/s eta 0:00:01\r",
      "\u001b[K     |██████████████████████████████▊ | 7.1 MB 14.1 MB/s eta 0:00:01\r",
      "\u001b[K     |██████████████████████████████▉ | 7.1 MB 14.1 MB/s eta 0:00:01\r",
      "\u001b[K     |██████████████████████████████▉ | 7.1 MB 14.1 MB/s eta 0:00:01\r",
      "\u001b[K     |██████████████████████████████▉ | 7.1 MB 14.1 MB/s eta 0:00:01\r",
      "\u001b[K     |███████████████████████████████ | 7.1 MB 14.1 MB/s eta 0:00:01\r",
      "\u001b[K     |███████████████████████████████ | 7.1 MB 14.1 MB/s eta 0:00:01\r",
      "\u001b[K     |███████████████████████████████ | 7.1 MB 14.1 MB/s eta 0:00:01\r",
      "\u001b[K     |███████████████████████████████ | 7.1 MB 14.1 MB/s eta 0:00:01\r",
      "\u001b[K     |███████████████████████████████ | 7.2 MB 14.1 MB/s eta 0:00:01\r",
      "\u001b[K     |███████████████████████████████▏| 7.2 MB 14.1 MB/s eta 0:00:01\r",
      "\u001b[K     |███████████████████████████████▏| 7.2 MB 14.1 MB/s eta 0:00:01\r",
      "\u001b[K     |███████████████████████████████▎| 7.2 MB 14.1 MB/s eta 0:00:01\r",
      "\u001b[K     |███████████████████████████████▎| 7.2 MB 14.1 MB/s eta 0:00:01\r",
      "\u001b[K     |███████████████████████████████▎| 7.2 MB 14.1 MB/s eta 0:00:01\r",
      "\u001b[K     |███████████████████████████████▍| 7.2 MB 14.1 MB/s eta 0:00:01\r",
      "\u001b[K     |███████████████████████████████▍| 7.2 MB 14.1 MB/s eta 0:00:01\r",
      "\u001b[K     |███████████████████████████████▌| 7.2 MB 14.1 MB/s eta 0:00:01\r",
      "\u001b[K     |███████████████████████████████▌| 7.2 MB 14.1 MB/s eta 0:00:01\r",
      "\u001b[K     |███████████████████████████████▌| 7.3 MB 14.1 MB/s eta 0:00:01\r",
      "\u001b[K     |███████████████████████████████▋| 7.3 MB 14.1 MB/s eta 0:00:01\r",
      "\u001b[K     |███████████████████████████████▋| 7.3 MB 14.1 MB/s eta 0:00:01\r",
      "\u001b[K     |███████████████████████████████▊| 7.3 MB 14.1 MB/s eta 0:00:01\r",
      "\u001b[K     |███████████████████████████████▊| 7.3 MB 14.1 MB/s eta 0:00:01\r",
      "\u001b[K     |███████████████████████████████▊| 7.3 MB 14.1 MB/s eta 0:00:01\r",
      "\u001b[K     |███████████████████████████████▉| 7.3 MB 14.1 MB/s eta 0:00:01\r",
      "\u001b[K     |███████████████████████████████▉| 7.3 MB 14.1 MB/s eta 0:00:01\r",
      "\u001b[K     |████████████████████████████████| 7.3 MB 14.1 MB/s eta 0:00:01\r",
      "\u001b[K     |████████████████████████████████| 7.4 MB 14.1 MB/s eta 0:00:01\r",
      "\u001b[K     |████████████████████████████████| 7.4 MB 14.1 MB/s eta 0:00:01\r",
      "\u001b[K     |████████████████████████████████| 7.4 MB 14.1 MB/s \r\n"
     ]
    },
    {
     "name": "stdout",
     "output_type": "stream",
     "text": [
      "\u001b[?25hBuilding wheels for collected packages: dlib\r\n"
     ]
    },
    {
     "name": "stdout",
     "output_type": "stream",
     "text": [
      "  Building wheel for dlib (setup.py) ... \u001b[?25l-"
     ]
    },
    {
     "name": "stdout",
     "output_type": "stream",
     "text": [
      "\b \b\\"
     ]
    },
    {
     "name": "stdout",
     "output_type": "stream",
     "text": [
      "\b \b|"
     ]
    },
    {
     "name": "stdout",
     "output_type": "stream",
     "text": [
      "\b \b/"
     ]
    },
    {
     "name": "stdout",
     "output_type": "stream",
     "text": [
      "\b \b-"
     ]
    },
    {
     "name": "stdout",
     "output_type": "stream",
     "text": [
      "\b \b\\"
     ]
    },
    {
     "name": "stdout",
     "output_type": "stream",
     "text": [
      "\b \b|"
     ]
    },
    {
     "name": "stdout",
     "output_type": "stream",
     "text": [
      "\b \b/"
     ]
    },
    {
     "name": "stdout",
     "output_type": "stream",
     "text": [
      "\b \b-"
     ]
    },
    {
     "name": "stdout",
     "output_type": "stream",
     "text": [
      "\b \b\\"
     ]
    },
    {
     "name": "stdout",
     "output_type": "stream",
     "text": [
      "\b \b|"
     ]
    },
    {
     "name": "stdout",
     "output_type": "stream",
     "text": [
      "\b \b/"
     ]
    },
    {
     "name": "stdout",
     "output_type": "stream",
     "text": [
      "\b \b-"
     ]
    },
    {
     "name": "stdout",
     "output_type": "stream",
     "text": [
      "\b \b\\"
     ]
    },
    {
     "name": "stdout",
     "output_type": "stream",
     "text": [
      "\b \b|"
     ]
    },
    {
     "name": "stdout",
     "output_type": "stream",
     "text": [
      "\b \b/"
     ]
    },
    {
     "name": "stdout",
     "output_type": "stream",
     "text": [
      "\b \b-"
     ]
    },
    {
     "name": "stdout",
     "output_type": "stream",
     "text": [
      "\b \b\\"
     ]
    },
    {
     "name": "stdout",
     "output_type": "stream",
     "text": [
      "\b \b|"
     ]
    },
    {
     "name": "stdout",
     "output_type": "stream",
     "text": [
      "\b \b/"
     ]
    },
    {
     "name": "stdout",
     "output_type": "stream",
     "text": [
      "\b \b-"
     ]
    },
    {
     "name": "stdout",
     "output_type": "stream",
     "text": [
      "\b \b\\"
     ]
    },
    {
     "name": "stdout",
     "output_type": "stream",
     "text": [
      "\b \b|"
     ]
    },
    {
     "name": "stdout",
     "output_type": "stream",
     "text": [
      "\b \b/"
     ]
    },
    {
     "name": "stdout",
     "output_type": "stream",
     "text": [
      "\b \b-"
     ]
    },
    {
     "name": "stdout",
     "output_type": "stream",
     "text": [
      "\b \b\\"
     ]
    },
    {
     "name": "stdout",
     "output_type": "stream",
     "text": [
      "\b \b|"
     ]
    },
    {
     "name": "stdout",
     "output_type": "stream",
     "text": [
      "\b \b/"
     ]
    },
    {
     "name": "stdout",
     "output_type": "stream",
     "text": [
      "\b \b-"
     ]
    },
    {
     "name": "stdout",
     "output_type": "stream",
     "text": [
      "\b \b\\"
     ]
    },
    {
     "name": "stdout",
     "output_type": "stream",
     "text": [
      "\b \b|"
     ]
    },
    {
     "name": "stdout",
     "output_type": "stream",
     "text": [
      "\b \b/"
     ]
    },
    {
     "name": "stdout",
     "output_type": "stream",
     "text": [
      "\b \b-"
     ]
    },
    {
     "name": "stdout",
     "output_type": "stream",
     "text": [
      "\b \b\\"
     ]
    },
    {
     "name": "stdout",
     "output_type": "stream",
     "text": [
      "\b \b|"
     ]
    },
    {
     "name": "stdout",
     "output_type": "stream",
     "text": [
      "\b \b/"
     ]
    },
    {
     "name": "stdout",
     "output_type": "stream",
     "text": [
      "\b \b-"
     ]
    },
    {
     "name": "stdout",
     "output_type": "stream",
     "text": [
      "\b \b\\"
     ]
    },
    {
     "name": "stdout",
     "output_type": "stream",
     "text": [
      "\b \b|"
     ]
    },
    {
     "name": "stdout",
     "output_type": "stream",
     "text": [
      "\b \b/"
     ]
    },
    {
     "name": "stdout",
     "output_type": "stream",
     "text": [
      "\b \b-"
     ]
    },
    {
     "name": "stdout",
     "output_type": "stream",
     "text": [
      "\b \b\\"
     ]
    },
    {
     "name": "stdout",
     "output_type": "stream",
     "text": [
      "\b \b|"
     ]
    },
    {
     "name": "stdout",
     "output_type": "stream",
     "text": [
      "\b \b/"
     ]
    },
    {
     "name": "stdout",
     "output_type": "stream",
     "text": [
      "\b \b-"
     ]
    },
    {
     "name": "stdout",
     "output_type": "stream",
     "text": [
      "\b \b\\"
     ]
    },
    {
     "name": "stdout",
     "output_type": "stream",
     "text": [
      "\b \b|"
     ]
    },
    {
     "name": "stdout",
     "output_type": "stream",
     "text": [
      "\b \b/"
     ]
    },
    {
     "name": "stdout",
     "output_type": "stream",
     "text": [
      "\b \b-"
     ]
    },
    {
     "name": "stdout",
     "output_type": "stream",
     "text": [
      "\b \b\\"
     ]
    },
    {
     "name": "stdout",
     "output_type": "stream",
     "text": [
      "\b \b|"
     ]
    },
    {
     "name": "stdout",
     "output_type": "stream",
     "text": [
      "\b \b/"
     ]
    },
    {
     "name": "stdout",
     "output_type": "stream",
     "text": [
      "\b \b-"
     ]
    },
    {
     "name": "stdout",
     "output_type": "stream",
     "text": [
      "\b \b\\"
     ]
    },
    {
     "name": "stdout",
     "output_type": "stream",
     "text": [
      "\b \b|"
     ]
    },
    {
     "name": "stdout",
     "output_type": "stream",
     "text": [
      "\b \b/"
     ]
    },
    {
     "name": "stdout",
     "output_type": "stream",
     "text": [
      "\b \b-"
     ]
    },
    {
     "name": "stdout",
     "output_type": "stream",
     "text": [
      "\b \b\\"
     ]
    },
    {
     "name": "stdout",
     "output_type": "stream",
     "text": [
      "\b \b|"
     ]
    },
    {
     "name": "stdout",
     "output_type": "stream",
     "text": [
      "\b \b/"
     ]
    },
    {
     "name": "stdout",
     "output_type": "stream",
     "text": [
      "\b \b-"
     ]
    },
    {
     "name": "stdout",
     "output_type": "stream",
     "text": [
      "\b \b\\"
     ]
    },
    {
     "name": "stdout",
     "output_type": "stream",
     "text": [
      "\b \b|"
     ]
    },
    {
     "name": "stdout",
     "output_type": "stream",
     "text": [
      "\b \b/"
     ]
    },
    {
     "name": "stdout",
     "output_type": "stream",
     "text": [
      "\b \b-"
     ]
    },
    {
     "name": "stdout",
     "output_type": "stream",
     "text": [
      "\b \b\\"
     ]
    },
    {
     "name": "stdout",
     "output_type": "stream",
     "text": [
      "\b \b|"
     ]
    },
    {
     "name": "stdout",
     "output_type": "stream",
     "text": [
      "\b \b/"
     ]
    },
    {
     "name": "stdout",
     "output_type": "stream",
     "text": [
      "\b \b-"
     ]
    },
    {
     "name": "stdout",
     "output_type": "stream",
     "text": [
      "\b \b\\"
     ]
    },
    {
     "name": "stdout",
     "output_type": "stream",
     "text": [
      "\b \b|"
     ]
    },
    {
     "name": "stdout",
     "output_type": "stream",
     "text": [
      "\b \b/"
     ]
    },
    {
     "name": "stdout",
     "output_type": "stream",
     "text": [
      "\b \b-"
     ]
    },
    {
     "name": "stdout",
     "output_type": "stream",
     "text": [
      "\b \b\\"
     ]
    },
    {
     "name": "stdout",
     "output_type": "stream",
     "text": [
      "\b \b|"
     ]
    },
    {
     "name": "stdout",
     "output_type": "stream",
     "text": [
      "\b \b/"
     ]
    },
    {
     "name": "stdout",
     "output_type": "stream",
     "text": [
      "\b \b-"
     ]
    },
    {
     "name": "stdout",
     "output_type": "stream",
     "text": [
      "\b \bdone\r\n"
     ]
    },
    {
     "name": "stdout",
     "output_type": "stream",
     "text": [
      "\u001b[?25h  Created wheel for dlib: filename=dlib-19.23.1-cp38-cp38-linux_x86_64.whl size=4112643 sha256=2937e5d0d00c76b1158762ee8d718c3a6af969e66cf959fbb5c6682954618c05\r\n",
      "  Stored in directory: /tmp/pip-ephem-wheel-cache-bqxhoth5/wheels/3a/ac/73/b4a0ecae4672035801b9d8a9e83eb31049bd438e7ad6ce4852\r\n",
      "Successfully built dlib\r\n"
     ]
    },
    {
     "name": "stdout",
     "output_type": "stream",
     "text": [
      "Installing collected packages: dlib\r\n"
     ]
    },
    {
     "name": "stdout",
     "output_type": "stream",
     "text": [
      "Successfully installed dlib-19.23.1\r\n",
      "\u001b[33mWARNING: Running pip as the 'root' user can result in broken permissions and conflicting behaviour with the system package manager. It is recommended to use a virtual environment instead: https://pip.pypa.io/warnings/venv\u001b[0m\r\n"
     ]
    }
   ],
   "source": [
    "!pip install matplotlib\n",
    "!pip install numpy\n",
    "!pip install dlib\n",
    "!pip install scipy\n",
    "!pip install imageio"
   ]
  },
  {
   "cell_type": "markdown",
   "id": "a35eeb9f-df70-4ab1-a243-2d2025888eb0",
   "metadata": {
    "gradient": {
     "editing": false,
     "id": "a35eeb9f-df70-4ab1-a243-2d2025888eb0",
     "kernelId": "54aa2370-8b57-4da5-8b37-e1588600422c"
    }
   },
   "source": [
    "# Introduction to the JupyterLab and Jupyter Notebooks\n",
    "\n",
    "This is a short introduction to two of the flagship tools created by [the Jupyter Community](https://jupyter.org).\n",
    "\n",
    "> **Note**: This interface is provided by the [JupyterLite project](https://jupyterlite.readthedocs.io/en/latest/), which embeds an entire JupyterLab interface, with many popular packages for scientific computing, in your browser. There may be some minor differences in behavior between JupyterLite and the JupyterLab you install locally.\n",
    "\n",
    "## JupyterLab 🧪\n",
    "\n",
    "**JupyterLab** is a next-generation web-based user interface for Project Jupyter. It enables you to work with documents and activities such as Jupyter notebooks, text editors, terminals, and custom components in a flexible, integrated, and extensible manner. It is the interface that you're looking at right now.\n",
    "\n",
    "**For an overview of the JupyterLab interface**, see the **JupyterLab Welcome Tour** on this page, by going to `Help -> Welcome Tour` and following the prompts.\n",
    "\n",
    "> **See Also**: For a more in-depth tour of JupyterLab with a full environment that runs in the cloud, see [the JupyterLab introduction on Binder](https://mybinder.org/v2/gh/jupyterlab/jupyterlab-demo/HEAD?urlpath=lab/tree/demo).\n",
    "\n",
    "## Jupyter Notebooks 📓\n",
    "\n",
    "**Jupyter Notebooks** are a community standard for communicating and performing interactive computing. They are a document that blends computations, outputs, explanatory text, mathematics, images, and rich media representations of objects.\n",
    "\n",
    "JupyterLab is one interface used to create and interact with Jupyter Notebooks.\n",
    "\n",
    "**For an overview of Jupyter Notebooks**, see the **JupyterLab Welcome Tour** on this page, by going to `Help -> Notebook Tour` and following the prompts.\n",
    "\n",
    "> **See Also**: For a more in-depth tour of Jupyter Notebooks and the Classic Jupyter Notebook interface, see [the Jupyter Notebook IPython tutorial on Binder](https://mybinder.org/v2/gh/ipython/ipython-in-depth/HEAD?urlpath=tree/binder/Index.ipynb).\n",
    "\n",
    "## An example: visualizing data in the notebook ✨\n",
    "\n",
    "Below is an example of a code cell. We'll visualize some simple data using two popular packages in Python. We'll use [NumPy](https://numpy.org/) to create some random data, and [Matplotlib](https://matplotlib.org) to visualize it.\n",
    "\n",
    "Note how the code and the results of running the code are bundled together.\n",
    "\n",
    "## The Gradient Notebooks IDE \n",
    "\n",
    "Much like Jupyter Notebooks or JupyterLab, you can execute Python code in cells using the Gradient IDE. You also have access to a terminal, file manager, and dataset mounting on the left. "
   ]
  },
  {
   "cell_type": "code",
   "execution_count": null,
   "id": "fe55883a-6887-43dd-9498-5333a51799e2",
   "metadata": {
    "gradient": {
     "editing": false,
     "execution_count": 4,
     "id": "fe55883a-6887-43dd-9498-5333a51799e2",
     "kernelId": "54aa2370-8b57-4da5-8b37-e1588600422c"
    }
   },
   "outputs": [
    {
     "data": {
      "image/png": "[encoded data removed]",
      "text/plain": [
       "<Figure size 432x288 with 1 Axes>"
      ]
     },
     "metadata": {
      "needs_background": "light"
     },
     "output_type": "display_data",
     "transient": {}
    }
   ],
   "source": [
    "from matplotlib import pyplot as plt\n",
    "import numpy as np\n",
    "\n",
    "# Generate 100 random data points along 3 dimensions\n",
    "x, y, scale = np.random.randn(3, 100)\n",
    "fig, ax = plt.subplots()\n",
    "\n",
    "# Map each onto a scatterplot we'll create with Matplotlib\n",
    "ax.scatter(x=x, y=y, c=scale, s=np.abs(scale)*500)\n",
    "ax.set(title=\"Some random data, created with JupyterLab!\")\n",
    "plt.show()"
   ]
  },
  {
   "cell_type": "markdown",
   "id": "2870117f-9455-414f-8a3f-f34bea9203fc",
   "metadata": {
    "gradient": {
     "editing": false,
     "id": "2870117f-9455-414f-8a3f-f34bea9203fc",
     "kernelId": "54aa2370-8b57-4da5-8b37-e1588600422c"
    }
   },
   "source": [
    "# Face Recognition"
   ]
  },
  {
   "cell_type": "code",
   "execution_count": null,
   "id": "886b71d8-2e80-4982-bbd5-c7143cce4552",
   "metadata": {
    "collapsed": false,
    "gradient": {
     "editing": false,
     "execution_count": 13,
     "id": "886b71d8-2e80-4982-bbd5-c7143cce4552",
     "kernelId": "54aa2370-8b57-4da5-8b37-e1588600422c",
     "source_hidden": false
    }
   },
   "outputs": [],
   "source": [
    "!wget http://dlib.net/files/dlib_face_recognition_resnet_model_v1.dat.bz2 \n",
    "!wget http://dlib.net/files/shape_predictor_68_face_landmarks.dat.bz2\n",
    "!bzip2 -d dlib_face_recognition_resnet_model_v1.dat.bz2\n",
    "!bzip2 -d shape_predictor_68_face_landmarks.dat.bz2 "
   ]
  },
  {
   "cell_type": "code",
   "execution_count": null,
   "id": "c43f6c4e-01e7-4714-8e36-1a4e4e0606d7",
   "metadata": {
    "gradient": {
     "editing": false,
     "execution_count": 1,
     "id": "c43f6c4e-01e7-4714-8e36-1a4e4e0606d7",
     "kernelId": "54aa2370-8b57-4da5-8b37-e1588600422c"
    }
   },
   "outputs": [
    {
     "name": "stdout",
     "output_type": "stream",
     "text": [
      "test/diff3.jpeg Not Found\n"
     ]
    },
    {
     "name": "stdout",
     "output_type": "stream",
     "text": [
      "test/james.jpeg james.\n"
     ]
    },
    {
     "name": "stdout",
     "output_type": "stream",
     "text": [
      "test/diff2.jpeg Not Found\n"
     ]
    }
   ],
   "source": [
    "#Step1:Configure and Start\n",
    "import imageio\n",
    "import dlib\n",
    "import numpy as np\n",
    "import os\n",
    "# Get Face Detector from dlib\n",
    "# This allows us to detect faces in image\n",
    "face_detector = dlib.get_frontal_face_detector()\n",
    "# Get Pose Predictor from dlib\n",
    "# This allows us to detect landmark points in faces and understand the pose/angle of the face\n",
    "shape_predictor = dlib.shape_predictor('shape_predictor_68_face_landmarks.dat')\n",
    "# Get the face recognition model\n",
    "# This is what gives us the face encodings (numbers that identify the face of a particular person)\n",
    "face_recognition_model = dlib.face_recognition_model_v1('dlib_face_recognition_resnet_model_v1.dat')\n",
    "# This is the tolerance for face comparisons\n",
    "# The lower the number - the stricter the comparison\n",
    "# Use a smaller value to avoid hits\n",
    "# To avoid false negatives (i.e. faces of the same person doesn't match), use higher value\n",
    "# 0.5-0.6 works well\n",
    "TOLERANCE = 0.6\n",
    "\n",
    "#Step2:Obtain facial encodings from a JPEG\n",
    "# Using the neural network, this code takes an image and returns its ace encodings\n",
    "def get_face_encodings(path_to_image):\n",
    "   # Load image using imaegeio\n",
    "   image = imageio.imread(path_to_image)\n",
    "   # Face detection is done with the use of a face detector\n",
    "   detected_faces = face_detector(image, 1)\n",
    "   # Get the faces' poses/landmarks\n",
    "   # The code that calculates face encodings will take this as an argument   # This enables the neural network to provide similar statistics for almost the same people's faces independent of camera angle or face placement in the picture\n",
    "   shapes_faces = [shape_predictor(image, face) for face in detected_faces]\n",
    "   # Compile the face encodings for each face found and return\n",
    "   return [np.array(face_recognition_model.compute_face_descriptor(image, face_pose, 1)) for face_pose in shapes_faces]\n",
    "\n",
    "#Step3:Face to Face Comparisons\n",
    "# This function takes a list of known faces\n",
    "def compare_face_encodings(known_faces, face):\n",
    "   # Finds the difference between each known face and the given face (that we are comparing)\n",
    "   # Calculate norm for the differences with each known face\n",
    "   # Return an array with True/Face values based on whether or not a known face matched with the given face\n",
    "   # A match occurs when the (norm) difference between a known face and the given face is less than or equal to the TOLERANCE value\n",
    "   return (np.linalg.norm(known_faces - face, axis=1) <= TOLERANCE)\n",
    "\n",
    "#Step4:FInding a match\n",
    "# This function returns the name of the person whose image matches with the given face (or 'Not Found')\n",
    "# known_faces is a list of face encodings\n",
    "# names is a list of the names of people (in the same order as the face encodings - to match the name with an encoding)\n",
    "# face is the face we are looking for\n",
    "def find_match(known_faces, names, face):\n",
    "   # Call compare_face_encodings to get a list of True/False values indicating whether or not there's a match\n",
    "   matches = compare_face_encodings(known_faces, face)\n",
    "   # Return the name of the first match\n",
    "   count = 0\n",
    "   for match in matches:\n",
    "       if match:\n",
    "           return names[count]\n",
    "       count += 1\n",
    "   # Return not found if no match found\n",
    "   return 'Not Found'\n",
    "\n",
    "#Step5:Obtaining face encodings for all the photos\n",
    "# Get path to all the known images\n",
    "# Filtering on .jpg extension - so this will only work with JPEG images ending with .jpg\n",
    "image_filenames = filter(lambda x: x.endswith('.jpeg'), os.listdir('images/'))\n",
    "# Sort in alphabetical order\n",
    "image_filenames = sorted(image_filenames)\n",
    "# Get full paths to images\n",
    "paths_to_images = ['images/' + x for x in image_filenames]\n",
    "# List of face encodings we have\n",
    "face_encodings = []\n",
    "# Loop over images to get the encoding one by one\n",
    "for path_to_image in paths_to_images:\n",
    "   # Get face encodings from the image\n",
    "   face_encodings_in_image = get_face_encodings(path_to_image)\n",
    "   # Make sure there's exactly one face in the image\n",
    "   if len(face_encodings_in_image) != 1:\n",
    "       print(\"Please change image: \" + path_to_image + \" - it has \" + str(len(face_encodings_in_image)) + \" faces; it can only have one\")\n",
    "       exit()\n",
    "   # Append the face encoding found in that image to the list of face encodings we have\n",
    "   face_encodings.append(get_face_encodings(path_to_image)[0])\n",
    "\n",
    "#Step6:Identifying the recognized faces in every image in the test subfolder\n",
    "# Get path to all the test images\n",
    "# Filtering on .jpg extension - so this will only work with JPEG images ending with .jpg\n",
    "test_filenames = filter(lambda x: x.endswith('.jpeg'), os.listdir('test/'))\n",
    "# Get full paths to test images\n",
    "paths_to_test_images = ['test/' + x for x in test_filenames]\n",
    "# Get list of names of people by eliminating the .JPG extension from image filenames\n",
    "names = [x[:-4] for x in image_filenames]\n",
    "# Iterate over test images to find match one by one\n",
    "for path_to_image in paths_to_test_images:\n",
    "   # Get face encodings from the test image\n",
    "   face_encodings_in_image = get_face_encodings(path_to_image)\n",
    "   # Make sure there's exactly one face in the image\n",
    "   if len(face_encodings_in_image) != 1:\n",
    "       print(\"Please change image: \" + path_to_image + \" - it has \" + str(len(face_encodings_in_image)) + \" faces; it can only have one\")\n",
    "       exit()\n",
    "   # Find match for the face encoding found in this test image\n",
    "   match = find_match(face_encodings, names, face_encodings_in_image[0])\n",
    "   # Print the path of test image and the corresponding match\n",
    "   print(path_to_image, match)\n",
    "\n",
    "\n",
    "\n"
   ]
  },
  {
   "cell_type": "code",
   "execution_count": null,
   "id": "6e8b0a27-66f6-40b4-a262-a8681730665b",
   "metadata": {
    "collapsed": false,
    "gradient": {
     "editing": false,
     "execution_count": 2,
     "id": "6e8b0a27-66f6-40b4-a262-a8681730665b",
     "kernelId": "54aa2370-8b57-4da5-8b37-e1588600422c",
     "source_hidden": false
    }
   },
   "outputs": [
    {
     "name": "stdout",
     "output_type": "stream",
     "text": [
      "test/diff3.jpeg Not Found\r\n"
     ]
    },
    {
     "name": "stdout",
     "output_type": "stream",
     "text": [
      "test/james.jpeg james.\r\n"
     ]
    },
    {
     "name": "stdout",
     "output_type": "stream",
     "text": [
      "test/diff2.jpeg Not Found\r\n"
     ]
    }
   ],
   "source": [
    "!python face.py"
   ]
  },
  {
   "cell_type": "code",
   "execution_count": null,
   "id": "abafbb96-8f40-45a6-a378-d41d66454457",
   "metadata": {
    "collapsed": false,
    "gradient": {
     "editing": false,
     "id": "abafbb96-8f40-45a6-a378-d41d66454457",
     "kernelId": "54aa2370-8b57-4da5-8b37-e1588600422c",
     "source_hidden": false
    }
   },
   "outputs": [],
   "source": []
  }
 ],
 "metadata": {
  "kernelspec": {
   "display_name": "Pyolite",
   "language": "python",
   "name": "python"
  },
  "language_info": {
   "codemirror_mode": {
    "name": "python",
    "version": 3
   },
   "file_extension": ".py",
   "mimetype": "text/x-python",
   "name": "python",
   "nbconvert_exporter": "python",
   "pygments_lexer": "ipython3",
   "version": "3.8"
  }
 },
 "nbformat": 4,
 "nbformat_minor": 5
}
